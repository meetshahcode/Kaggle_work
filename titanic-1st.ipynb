{
 "cells": [
  {
   "cell_type": "code",
   "execution_count": 1,
   "id": "b1826152",
   "metadata": {
    "_cell_guid": "b1076dfc-b9ad-4769-8c92-a6c4dae69d19",
    "_uuid": "8f2839f25d086af736a60e9eeb907d3b93b6e0e5",
    "execution": {
     "iopub.execute_input": "2022-04-10T10:37:35.696449Z",
     "iopub.status.busy": "2022-04-10T10:37:35.695385Z",
     "iopub.status.idle": "2022-04-10T10:37:35.705131Z",
     "shell.execute_reply": "2022-04-10T10:37:35.704355Z",
     "shell.execute_reply.started": "2022-04-10T10:28:14.600450Z"
    },
    "papermill": {
     "duration": 0.043071,
     "end_time": "2022-04-10T10:37:35.705308",
     "exception": false,
     "start_time": "2022-04-10T10:37:35.662237",
     "status": "completed"
    },
    "tags": []
   },
   "outputs": [
    {
     "name": "stdout",
     "output_type": "stream",
     "text": [
      "/kaggle/input/titanic/train.csv\n",
      "/kaggle/input/titanic/test.csv\n",
      "/kaggle/input/titanic/gender_submission.csv\n"
     ]
    }
   ],
   "source": [
    "# This Python 3 environment comes with many helpful analytics libraries installed\n",
    "# It is defined by the kaggle/python Docker image: https://github.com/kaggle/docker-python\n",
    "# For example, here's several helpful packages to load\n",
    "\n",
    "import numpy as np # linear algebra\n",
    "import pandas as pd # data processing, CSV file I/O (e.g. pd.read_csv)\n",
    "\n",
    "# Input data files are available in the read-only \"../input/\" directory\n",
    "# For example, running this (by clicking run or pressing Shift+Enter) will list all files under the input directory\n",
    "\n",
    "import os\n",
    "for dirname, _, filenames in os.walk('/kaggle/input'):\n",
    "    for filename in filenames:\n",
    "        print(os.path.join(dirname, filename))\n",
    "\n",
    "# You can write up to 20GB to the current directory (/kaggle/working/) that gets preserved as output when you create a version using \"Save & Run All\" \n",
    "# You can also write temporary files to /kaggle/temp/, but they won't be saved outside of the current session"
   ]
  },
  {
   "cell_type": "markdown",
   "id": "9faa534d",
   "metadata": {
    "papermill": {
     "duration": 0.019424,
     "end_time": "2022-04-10T10:37:35.746285",
     "exception": false,
     "start_time": "2022-04-10T10:37:35.726861",
     "status": "completed"
    },
    "tags": []
   },
   "source": [
    "Getting all data."
   ]
  },
  {
   "cell_type": "code",
   "execution_count": 2,
   "id": "f7bddace",
   "metadata": {
    "execution": {
     "iopub.execute_input": "2022-04-10T10:37:35.790733Z",
     "iopub.status.busy": "2022-04-10T10:37:35.790107Z",
     "iopub.status.idle": "2022-04-10T10:37:35.826491Z",
     "shell.execute_reply": "2022-04-10T10:37:35.827045Z",
     "shell.execute_reply.started": "2022-04-10T10:28:14.617027Z"
    },
    "papermill": {
     "duration": 0.061085,
     "end_time": "2022-04-10T10:37:35.827230",
     "exception": false,
     "start_time": "2022-04-10T10:37:35.766145",
     "status": "completed"
    },
    "tags": []
   },
   "outputs": [],
   "source": [
    "train=pd.read_csv(\"../input/titanic/train.csv\",index_col=\"PassengerId\")\n",
    "test=pd.read_csv(\"../input/titanic/test.csv\",index_col=\"PassengerId\")\n",
    "submission=pd.read_csv(\"../input/titanic/gender_submission.csv\",index_col = \"PassengerId\")"
   ]
  },
  {
   "cell_type": "markdown",
   "id": "cf594ee4",
   "metadata": {
    "papermill": {
     "duration": 0.01928,
     "end_time": "2022-04-10T10:37:35.866708",
     "exception": false,
     "start_time": "2022-04-10T10:37:35.847428",
     "status": "completed"
    },
    "tags": []
   },
   "source": [
    "# Exploring the Data"
   ]
  },
  {
   "cell_type": "code",
   "execution_count": 3,
   "id": "c01ce08c",
   "metadata": {
    "execution": {
     "iopub.execute_input": "2022-04-10T10:37:35.909671Z",
     "iopub.status.busy": "2022-04-10T10:37:35.908742Z",
     "iopub.status.idle": "2022-04-10T10:37:35.928939Z",
     "shell.execute_reply": "2022-04-10T10:37:35.929380Z",
     "shell.execute_reply.started": "2022-04-10T10:28:15.361412Z"
    },
    "papermill": {
     "duration": 0.043359,
     "end_time": "2022-04-10T10:37:35.929558",
     "exception": false,
     "start_time": "2022-04-10T10:37:35.886199",
     "status": "completed"
    },
    "tags": []
   },
   "outputs": [
    {
     "data": {
      "text/html": [
       "<div>\n",
       "<style scoped>\n",
       "    .dataframe tbody tr th:only-of-type {\n",
       "        vertical-align: middle;\n",
       "    }\n",
       "\n",
       "    .dataframe tbody tr th {\n",
       "        vertical-align: top;\n",
       "    }\n",
       "\n",
       "    .dataframe thead th {\n",
       "        text-align: right;\n",
       "    }\n",
       "</style>\n",
       "<table border=\"1\" class=\"dataframe\">\n",
       "  <thead>\n",
       "    <tr style=\"text-align: right;\">\n",
       "      <th></th>\n",
       "      <th>Survived</th>\n",
       "      <th>Pclass</th>\n",
       "      <th>Name</th>\n",
       "      <th>Sex</th>\n",
       "      <th>Age</th>\n",
       "      <th>SibSp</th>\n",
       "      <th>Parch</th>\n",
       "      <th>Ticket</th>\n",
       "      <th>Fare</th>\n",
       "      <th>Cabin</th>\n",
       "      <th>Embarked</th>\n",
       "    </tr>\n",
       "    <tr>\n",
       "      <th>PassengerId</th>\n",
       "      <th></th>\n",
       "      <th></th>\n",
       "      <th></th>\n",
       "      <th></th>\n",
       "      <th></th>\n",
       "      <th></th>\n",
       "      <th></th>\n",
       "      <th></th>\n",
       "      <th></th>\n",
       "      <th></th>\n",
       "      <th></th>\n",
       "    </tr>\n",
       "  </thead>\n",
       "  <tbody>\n",
       "    <tr>\n",
       "      <th>1</th>\n",
       "      <td>0</td>\n",
       "      <td>3</td>\n",
       "      <td>Braund, Mr. Owen Harris</td>\n",
       "      <td>male</td>\n",
       "      <td>22.0</td>\n",
       "      <td>1</td>\n",
       "      <td>0</td>\n",
       "      <td>A/5 21171</td>\n",
       "      <td>7.2500</td>\n",
       "      <td>NaN</td>\n",
       "      <td>S</td>\n",
       "    </tr>\n",
       "    <tr>\n",
       "      <th>2</th>\n",
       "      <td>1</td>\n",
       "      <td>1</td>\n",
       "      <td>Cumings, Mrs. John Bradley (Florence Briggs Th...</td>\n",
       "      <td>female</td>\n",
       "      <td>38.0</td>\n",
       "      <td>1</td>\n",
       "      <td>0</td>\n",
       "      <td>PC 17599</td>\n",
       "      <td>71.2833</td>\n",
       "      <td>C85</td>\n",
       "      <td>C</td>\n",
       "    </tr>\n",
       "    <tr>\n",
       "      <th>3</th>\n",
       "      <td>1</td>\n",
       "      <td>3</td>\n",
       "      <td>Heikkinen, Miss. Laina</td>\n",
       "      <td>female</td>\n",
       "      <td>26.0</td>\n",
       "      <td>0</td>\n",
       "      <td>0</td>\n",
       "      <td>STON/O2. 3101282</td>\n",
       "      <td>7.9250</td>\n",
       "      <td>NaN</td>\n",
       "      <td>S</td>\n",
       "    </tr>\n",
       "    <tr>\n",
       "      <th>4</th>\n",
       "      <td>1</td>\n",
       "      <td>1</td>\n",
       "      <td>Futrelle, Mrs. Jacques Heath (Lily May Peel)</td>\n",
       "      <td>female</td>\n",
       "      <td>35.0</td>\n",
       "      <td>1</td>\n",
       "      <td>0</td>\n",
       "      <td>113803</td>\n",
       "      <td>53.1000</td>\n",
       "      <td>C123</td>\n",
       "      <td>S</td>\n",
       "    </tr>\n",
       "    <tr>\n",
       "      <th>5</th>\n",
       "      <td>0</td>\n",
       "      <td>3</td>\n",
       "      <td>Allen, Mr. William Henry</td>\n",
       "      <td>male</td>\n",
       "      <td>35.0</td>\n",
       "      <td>0</td>\n",
       "      <td>0</td>\n",
       "      <td>373450</td>\n",
       "      <td>8.0500</td>\n",
       "      <td>NaN</td>\n",
       "      <td>S</td>\n",
       "    </tr>\n",
       "  </tbody>\n",
       "</table>\n",
       "</div>"
      ],
      "text/plain": [
       "             Survived  Pclass  \\\n",
       "PassengerId                     \n",
       "1                   0       3   \n",
       "2                   1       1   \n",
       "3                   1       3   \n",
       "4                   1       1   \n",
       "5                   0       3   \n",
       "\n",
       "                                                          Name     Sex   Age  \\\n",
       "PassengerId                                                                    \n",
       "1                                      Braund, Mr. Owen Harris    male  22.0   \n",
       "2            Cumings, Mrs. John Bradley (Florence Briggs Th...  female  38.0   \n",
       "3                                       Heikkinen, Miss. Laina  female  26.0   \n",
       "4                 Futrelle, Mrs. Jacques Heath (Lily May Peel)  female  35.0   \n",
       "5                                     Allen, Mr. William Henry    male  35.0   \n",
       "\n",
       "             SibSp  Parch            Ticket     Fare Cabin Embarked  \n",
       "PassengerId                                                          \n",
       "1                1      0         A/5 21171   7.2500   NaN        S  \n",
       "2                1      0          PC 17599  71.2833   C85        C  \n",
       "3                0      0  STON/O2. 3101282   7.9250   NaN        S  \n",
       "4                1      0            113803  53.1000  C123        S  \n",
       "5                0      0            373450   8.0500   NaN        S  "
      ]
     },
     "execution_count": 3,
     "metadata": {},
     "output_type": "execute_result"
    }
   ],
   "source": [
    "train.head()"
   ]
  },
  {
   "cell_type": "code",
   "execution_count": 4,
   "id": "ea7ebd93",
   "metadata": {
    "execution": {
     "iopub.execute_input": "2022-04-10T10:37:35.974024Z",
     "iopub.status.busy": "2022-04-10T10:37:35.973101Z",
     "iopub.status.idle": "2022-04-10T10:37:35.979602Z",
     "shell.execute_reply": "2022-04-10T10:37:35.980088Z",
     "shell.execute_reply.started": "2022-04-10T10:28:16.194178Z"
    },
    "papermill": {
     "duration": 0.030494,
     "end_time": "2022-04-10T10:37:35.980246",
     "exception": false,
     "start_time": "2022-04-10T10:37:35.949752",
     "status": "completed"
    },
    "tags": []
   },
   "outputs": [
    {
     "data": {
      "text/plain": [
       "Survived      int64\n",
       "Pclass        int64\n",
       "Name         object\n",
       "Sex          object\n",
       "Age         float64\n",
       "SibSp         int64\n",
       "Parch         int64\n",
       "Ticket       object\n",
       "Fare        float64\n",
       "Cabin        object\n",
       "Embarked     object\n",
       "dtype: object"
      ]
     },
     "execution_count": 4,
     "metadata": {},
     "output_type": "execute_result"
    }
   ],
   "source": [
    "train.dtypes"
   ]
  },
  {
   "cell_type": "code",
   "execution_count": 5,
   "id": "7818486f",
   "metadata": {
    "execution": {
     "iopub.execute_input": "2022-04-10T10:37:36.024712Z",
     "iopub.status.busy": "2022-04-10T10:37:36.023798Z",
     "iopub.status.idle": "2022-04-10T10:37:36.029050Z",
     "shell.execute_reply": "2022-04-10T10:37:36.029593Z",
     "shell.execute_reply.started": "2022-04-10T10:28:17.374816Z"
    },
    "papermill": {
     "duration": 0.029116,
     "end_time": "2022-04-10T10:37:36.029766",
     "exception": false,
     "start_time": "2022-04-10T10:37:36.000650",
     "status": "completed"
    },
    "tags": []
   },
   "outputs": [
    {
     "data": {
      "text/plain": [
       "(9801, (891, 11))"
      ]
     },
     "execution_count": 5,
     "metadata": {},
     "output_type": "execute_result"
    }
   ],
   "source": [
    "train.size , train.shape"
   ]
  },
  {
   "cell_type": "code",
   "execution_count": 6,
   "id": "819ad658",
   "metadata": {
    "execution": {
     "iopub.execute_input": "2022-04-10T10:37:36.082217Z",
     "iopub.status.busy": "2022-04-10T10:37:36.081296Z",
     "iopub.status.idle": "2022-04-10T10:37:36.121211Z",
     "shell.execute_reply": "2022-04-10T10:37:36.121755Z",
     "shell.execute_reply.started": "2022-04-10T10:28:18.654400Z"
    },
    "papermill": {
     "duration": 0.071696,
     "end_time": "2022-04-10T10:37:36.121929",
     "exception": false,
     "start_time": "2022-04-10T10:37:36.050233",
     "status": "completed"
    },
    "tags": []
   },
   "outputs": [
    {
     "data": {
      "text/html": [
       "<div>\n",
       "<style scoped>\n",
       "    .dataframe tbody tr th:only-of-type {\n",
       "        vertical-align: middle;\n",
       "    }\n",
       "\n",
       "    .dataframe tbody tr th {\n",
       "        vertical-align: top;\n",
       "    }\n",
       "\n",
       "    .dataframe thead th {\n",
       "        text-align: right;\n",
       "    }\n",
       "</style>\n",
       "<table border=\"1\" class=\"dataframe\">\n",
       "  <thead>\n",
       "    <tr style=\"text-align: right;\">\n",
       "      <th></th>\n",
       "      <th>Survived</th>\n",
       "      <th>Pclass</th>\n",
       "      <th>Age</th>\n",
       "      <th>SibSp</th>\n",
       "      <th>Parch</th>\n",
       "      <th>Fare</th>\n",
       "    </tr>\n",
       "  </thead>\n",
       "  <tbody>\n",
       "    <tr>\n",
       "      <th>count</th>\n",
       "      <td>891.000000</td>\n",
       "      <td>891.000000</td>\n",
       "      <td>714.000000</td>\n",
       "      <td>891.000000</td>\n",
       "      <td>891.000000</td>\n",
       "      <td>891.000000</td>\n",
       "    </tr>\n",
       "    <tr>\n",
       "      <th>mean</th>\n",
       "      <td>0.383838</td>\n",
       "      <td>2.308642</td>\n",
       "      <td>29.699118</td>\n",
       "      <td>0.523008</td>\n",
       "      <td>0.381594</td>\n",
       "      <td>32.204208</td>\n",
       "    </tr>\n",
       "    <tr>\n",
       "      <th>std</th>\n",
       "      <td>0.486592</td>\n",
       "      <td>0.836071</td>\n",
       "      <td>14.526497</td>\n",
       "      <td>1.102743</td>\n",
       "      <td>0.806057</td>\n",
       "      <td>49.693429</td>\n",
       "    </tr>\n",
       "    <tr>\n",
       "      <th>min</th>\n",
       "      <td>0.000000</td>\n",
       "      <td>1.000000</td>\n",
       "      <td>0.420000</td>\n",
       "      <td>0.000000</td>\n",
       "      <td>0.000000</td>\n",
       "      <td>0.000000</td>\n",
       "    </tr>\n",
       "    <tr>\n",
       "      <th>25%</th>\n",
       "      <td>0.000000</td>\n",
       "      <td>2.000000</td>\n",
       "      <td>20.125000</td>\n",
       "      <td>0.000000</td>\n",
       "      <td>0.000000</td>\n",
       "      <td>7.910400</td>\n",
       "    </tr>\n",
       "    <tr>\n",
       "      <th>50%</th>\n",
       "      <td>0.000000</td>\n",
       "      <td>3.000000</td>\n",
       "      <td>28.000000</td>\n",
       "      <td>0.000000</td>\n",
       "      <td>0.000000</td>\n",
       "      <td>14.454200</td>\n",
       "    </tr>\n",
       "    <tr>\n",
       "      <th>75%</th>\n",
       "      <td>1.000000</td>\n",
       "      <td>3.000000</td>\n",
       "      <td>38.000000</td>\n",
       "      <td>1.000000</td>\n",
       "      <td>0.000000</td>\n",
       "      <td>31.000000</td>\n",
       "    </tr>\n",
       "    <tr>\n",
       "      <th>max</th>\n",
       "      <td>1.000000</td>\n",
       "      <td>3.000000</td>\n",
       "      <td>80.000000</td>\n",
       "      <td>8.000000</td>\n",
       "      <td>6.000000</td>\n",
       "      <td>512.329200</td>\n",
       "    </tr>\n",
       "  </tbody>\n",
       "</table>\n",
       "</div>"
      ],
      "text/plain": [
       "         Survived      Pclass         Age       SibSp       Parch        Fare\n",
       "count  891.000000  891.000000  714.000000  891.000000  891.000000  891.000000\n",
       "mean     0.383838    2.308642   29.699118    0.523008    0.381594   32.204208\n",
       "std      0.486592    0.836071   14.526497    1.102743    0.806057   49.693429\n",
       "min      0.000000    1.000000    0.420000    0.000000    0.000000    0.000000\n",
       "25%      0.000000    2.000000   20.125000    0.000000    0.000000    7.910400\n",
       "50%      0.000000    3.000000   28.000000    0.000000    0.000000   14.454200\n",
       "75%      1.000000    3.000000   38.000000    1.000000    0.000000   31.000000\n",
       "max      1.000000    3.000000   80.000000    8.000000    6.000000  512.329200"
      ]
     },
     "execution_count": 6,
     "metadata": {},
     "output_type": "execute_result"
    }
   ],
   "source": [
    "train.describe()"
   ]
  },
  {
   "cell_type": "code",
   "execution_count": 7,
   "id": "f6a257fd",
   "metadata": {
    "execution": {
     "iopub.execute_input": "2022-04-10T10:37:36.168980Z",
     "iopub.status.busy": "2022-04-10T10:37:36.168047Z",
     "iopub.status.idle": "2022-04-10T10:37:36.191577Z",
     "shell.execute_reply": "2022-04-10T10:37:36.192173Z",
     "shell.execute_reply.started": "2022-04-10T10:28:19.468909Z"
    },
    "papermill": {
     "duration": 0.049034,
     "end_time": "2022-04-10T10:37:36.192351",
     "exception": false,
     "start_time": "2022-04-10T10:37:36.143317",
     "status": "completed"
    },
    "tags": []
   },
   "outputs": [
    {
     "data": {
      "text/html": [
       "<div>\n",
       "<style scoped>\n",
       "    .dataframe tbody tr th:only-of-type {\n",
       "        vertical-align: middle;\n",
       "    }\n",
       "\n",
       "    .dataframe tbody tr th {\n",
       "        vertical-align: top;\n",
       "    }\n",
       "\n",
       "    .dataframe thead th {\n",
       "        text-align: right;\n",
       "    }\n",
       "</style>\n",
       "<table border=\"1\" class=\"dataframe\">\n",
       "  <thead>\n",
       "    <tr style=\"text-align: right;\">\n",
       "      <th></th>\n",
       "      <th>Name</th>\n",
       "      <th>Sex</th>\n",
       "      <th>Ticket</th>\n",
       "      <th>Cabin</th>\n",
       "      <th>Embarked</th>\n",
       "    </tr>\n",
       "  </thead>\n",
       "  <tbody>\n",
       "    <tr>\n",
       "      <th>count</th>\n",
       "      <td>891</td>\n",
       "      <td>891</td>\n",
       "      <td>891</td>\n",
       "      <td>204</td>\n",
       "      <td>889</td>\n",
       "    </tr>\n",
       "    <tr>\n",
       "      <th>unique</th>\n",
       "      <td>891</td>\n",
       "      <td>2</td>\n",
       "      <td>681</td>\n",
       "      <td>147</td>\n",
       "      <td>3</td>\n",
       "    </tr>\n",
       "    <tr>\n",
       "      <th>top</th>\n",
       "      <td>Braund, Mr. Owen Harris</td>\n",
       "      <td>male</td>\n",
       "      <td>347082</td>\n",
       "      <td>B96 B98</td>\n",
       "      <td>S</td>\n",
       "    </tr>\n",
       "    <tr>\n",
       "      <th>freq</th>\n",
       "      <td>1</td>\n",
       "      <td>577</td>\n",
       "      <td>7</td>\n",
       "      <td>4</td>\n",
       "      <td>644</td>\n",
       "    </tr>\n",
       "  </tbody>\n",
       "</table>\n",
       "</div>"
      ],
      "text/plain": [
       "                           Name   Sex  Ticket    Cabin Embarked\n",
       "count                       891   891     891      204      889\n",
       "unique                      891     2     681      147        3\n",
       "top     Braund, Mr. Owen Harris  male  347082  B96 B98        S\n",
       "freq                          1   577       7        4      644"
      ]
     },
     "execution_count": 7,
     "metadata": {},
     "output_type": "execute_result"
    }
   ],
   "source": [
    "train.describe(include=\"O\")"
   ]
  },
  {
   "cell_type": "markdown",
   "id": "17661757",
   "metadata": {
    "papermill": {
     "duration": 0.025358,
     "end_time": "2022-04-10T10:37:36.243780",
     "exception": false,
     "start_time": "2022-04-10T10:37:36.218422",
     "status": "completed"
    },
    "tags": []
   },
   "source": [
    "### Cheking and fixing null values"
   ]
  },
  {
   "cell_type": "code",
   "execution_count": 8,
   "id": "e29c8e54",
   "metadata": {
    "execution": {
     "iopub.execute_input": "2022-04-10T10:37:36.290578Z",
     "iopub.status.busy": "2022-04-10T10:37:36.290009Z",
     "iopub.status.idle": "2022-04-10T10:37:36.296888Z",
     "shell.execute_reply": "2022-04-10T10:37:36.297402Z",
     "shell.execute_reply.started": "2022-04-10T10:28:21.081518Z"
    },
    "papermill": {
     "duration": 0.03159,
     "end_time": "2022-04-10T10:37:36.297584",
     "exception": false,
     "start_time": "2022-04-10T10:37:36.265994",
     "status": "completed"
    },
    "tags": []
   },
   "outputs": [
    {
     "data": {
      "text/plain": [
       "Survived      0\n",
       "Pclass        0\n",
       "Name          0\n",
       "Sex           0\n",
       "Age         177\n",
       "SibSp         0\n",
       "Parch         0\n",
       "Ticket        0\n",
       "Fare          0\n",
       "Cabin       687\n",
       "Embarked      2\n",
       "dtype: int64"
      ]
     },
     "execution_count": 8,
     "metadata": {},
     "output_type": "execute_result"
    }
   ],
   "source": [
    "train.isnull().sum()"
   ]
  },
  {
   "cell_type": "code",
   "execution_count": 9,
   "id": "459039f6",
   "metadata": {
    "execution": {
     "iopub.execute_input": "2022-04-10T10:37:36.344183Z",
     "iopub.status.busy": "2022-04-10T10:37:36.343615Z",
     "iopub.status.idle": "2022-04-10T10:37:36.347962Z",
     "shell.execute_reply": "2022-04-10T10:37:36.348417Z",
     "shell.execute_reply.started": "2022-04-10T10:28:24.309494Z"
    },
    "papermill": {
     "duration": 0.029024,
     "end_time": "2022-04-10T10:37:36.348587",
     "exception": false,
     "start_time": "2022-04-10T10:37:36.319563",
     "status": "completed"
    },
    "tags": []
   },
   "outputs": [],
   "source": [
    "train.drop([\"Cabin\"],axis = 1,inplace=True)"
   ]
  },
  {
   "cell_type": "code",
   "execution_count": 10,
   "id": "d8cd5a5f",
   "metadata": {
    "execution": {
     "iopub.execute_input": "2022-04-10T10:37:36.395483Z",
     "iopub.status.busy": "2022-04-10T10:37:36.394947Z",
     "iopub.status.idle": "2022-04-10T10:37:36.399374Z",
     "shell.execute_reply": "2022-04-10T10:37:36.399874Z",
     "shell.execute_reply.started": "2022-04-10T10:28:25.652152Z"
    },
    "papermill": {
     "duration": 0.029433,
     "end_time": "2022-04-10T10:37:36.400036",
     "exception": false,
     "start_time": "2022-04-10T10:37:36.370603",
     "status": "completed"
    },
    "tags": []
   },
   "outputs": [],
   "source": [
    "train['Age'].fillna(value = train[\"Age\"].mean(), inplace = True)"
   ]
  },
  {
   "cell_type": "code",
   "execution_count": 11,
   "id": "f220d708",
   "metadata": {
    "execution": {
     "iopub.execute_input": "2022-04-10T10:37:36.447074Z",
     "iopub.status.busy": "2022-04-10T10:37:36.446477Z",
     "iopub.status.idle": "2022-04-10T10:37:36.451297Z",
     "shell.execute_reply": "2022-04-10T10:37:36.451756Z",
     "shell.execute_reply.started": "2022-04-10T10:28:29.357371Z"
    },
    "papermill": {
     "duration": 0.029848,
     "end_time": "2022-04-10T10:37:36.451920",
     "exception": false,
     "start_time": "2022-04-10T10:37:36.422072",
     "status": "completed"
    },
    "tags": []
   },
   "outputs": [
    {
     "data": {
      "text/plain": [
       "array(['S', 'C', 'Q', nan], dtype=object)"
      ]
     },
     "execution_count": 11,
     "metadata": {},
     "output_type": "execute_result"
    }
   ],
   "source": [
    "train[\"Embarked\"].unique()"
   ]
  },
  {
   "cell_type": "code",
   "execution_count": 12,
   "id": "43988ab0",
   "metadata": {
    "execution": {
     "iopub.execute_input": "2022-04-10T10:37:36.503465Z",
     "iopub.status.busy": "2022-04-10T10:37:36.502890Z",
     "iopub.status.idle": "2022-04-10T10:37:36.505188Z",
     "shell.execute_reply": "2022-04-10T10:37:36.505626Z",
     "shell.execute_reply.started": "2022-04-10T10:28:30.146177Z"
    },
    "papermill": {
     "duration": 0.031551,
     "end_time": "2022-04-10T10:37:36.505781",
     "exception": false,
     "start_time": "2022-04-10T10:37:36.474230",
     "status": "completed"
    },
    "tags": []
   },
   "outputs": [
    {
     "data": {
      "text/plain": [
       "S    644\n",
       "C    168\n",
       "Q     77\n",
       "Name: Embarked, dtype: int64"
      ]
     },
     "execution_count": 12,
     "metadata": {},
     "output_type": "execute_result"
    }
   ],
   "source": [
    "train[\"Embarked\"].value_counts()"
   ]
  },
  {
   "cell_type": "code",
   "execution_count": 13,
   "id": "89135d30",
   "metadata": {
    "execution": {
     "iopub.execute_input": "2022-04-10T10:37:36.560293Z",
     "iopub.status.busy": "2022-04-10T10:37:36.559324Z",
     "iopub.status.idle": "2022-04-10T10:37:36.569956Z",
     "shell.execute_reply": "2022-04-10T10:37:36.570455Z",
     "shell.execute_reply.started": "2022-04-10T10:28:30.917391Z"
    },
    "papermill": {
     "duration": 0.03917,
     "end_time": "2022-04-10T10:37:36.570655",
     "exception": false,
     "start_time": "2022-04-10T10:37:36.531485",
     "status": "completed"
    },
    "tags": []
   },
   "outputs": [
    {
     "data": {
      "text/plain": [
       "S    646\n",
       "C    168\n",
       "Q     77\n",
       "Name: Embarked, dtype: int64"
      ]
     },
     "execution_count": 13,
     "metadata": {},
     "output_type": "execute_result"
    }
   ],
   "source": [
    "train[\"Embarked\"].fillna(value = 'S' , inplace = True)\n",
    "train[\"Embarked\"].value_counts()"
   ]
  },
  {
   "cell_type": "code",
   "execution_count": 14,
   "id": "8af98b54",
   "metadata": {
    "execution": {
     "iopub.execute_input": "2022-04-10T10:37:36.625306Z",
     "iopub.status.busy": "2022-04-10T10:37:36.624482Z",
     "iopub.status.idle": "2022-04-10T10:37:36.627121Z",
     "shell.execute_reply": "2022-04-10T10:37:36.627610Z",
     "shell.execute_reply.started": "2022-04-10T10:28:33.284930Z"
    },
    "papermill": {
     "duration": 0.033907,
     "end_time": "2022-04-10T10:37:36.627785",
     "exception": false,
     "start_time": "2022-04-10T10:37:36.593878",
     "status": "completed"
    },
    "tags": []
   },
   "outputs": [],
   "source": [
    "test.drop([\"Cabin\"],axis = 1 , inplace = True)"
   ]
  },
  {
   "cell_type": "code",
   "execution_count": 15,
   "id": "f952e9d7",
   "metadata": {
    "execution": {
     "iopub.execute_input": "2022-04-10T10:37:36.677286Z",
     "iopub.status.busy": "2022-04-10T10:37:36.676368Z",
     "iopub.status.idle": "2022-04-10T10:37:36.681338Z",
     "shell.execute_reply": "2022-04-10T10:37:36.681831Z",
     "shell.execute_reply.started": "2022-04-10T10:28:34.020346Z"
    },
    "papermill": {
     "duration": 0.03118,
     "end_time": "2022-04-10T10:37:36.681995",
     "exception": false,
     "start_time": "2022-04-10T10:37:36.650815",
     "status": "completed"
    },
    "tags": []
   },
   "outputs": [],
   "source": [
    "test['Age'].fillna(value = test[\"Age\"].mean(), inplace = True)\n",
    "test[\"Fare\"].fillna(value = test[\"Fare\"].mean(),inplace = True)"
   ]
  },
  {
   "cell_type": "code",
   "execution_count": 16,
   "id": "9368c769",
   "metadata": {
    "execution": {
     "iopub.execute_input": "2022-04-10T10:37:36.732251Z",
     "iopub.status.busy": "2022-04-10T10:37:36.731617Z",
     "iopub.status.idle": "2022-04-10T10:37:36.737984Z",
     "shell.execute_reply": "2022-04-10T10:37:36.738423Z",
     "shell.execute_reply.started": "2022-04-10T10:28:36.270749Z"
    },
    "papermill": {
     "duration": 0.032495,
     "end_time": "2022-04-10T10:37:36.738601",
     "exception": false,
     "start_time": "2022-04-10T10:37:36.706106",
     "status": "completed"
    },
    "tags": []
   },
   "outputs": [
    {
     "data": {
      "text/plain": [
       "Pclass      0\n",
       "Name        0\n",
       "Sex         0\n",
       "Age         0\n",
       "SibSp       0\n",
       "Parch       0\n",
       "Ticket      0\n",
       "Fare        0\n",
       "Embarked    0\n",
       "dtype: int64"
      ]
     },
     "execution_count": 16,
     "metadata": {},
     "output_type": "execute_result"
    }
   ],
   "source": [
    "test.isnull().sum()"
   ]
  },
  {
   "cell_type": "markdown",
   "id": "6ae1e67d",
   "metadata": {
    "papermill": {
     "duration": 0.022658,
     "end_time": "2022-04-10T10:37:36.785360",
     "exception": false,
     "start_time": "2022-04-10T10:37:36.762702",
     "status": "completed"
    },
    "tags": []
   },
   "source": [
    "# ML model"
   ]
  },
  {
   "cell_type": "markdown",
   "id": "4eb5aed3",
   "metadata": {
    "execution": {
     "iopub.execute_input": "2022-04-10T10:22:50.865035Z",
     "iopub.status.busy": "2022-04-10T10:22:50.864740Z",
     "iopub.status.idle": "2022-04-10T10:22:50.869055Z",
     "shell.execute_reply": "2022-04-10T10:22:50.868393Z",
     "shell.execute_reply.started": "2022-04-10T10:22:50.865003Z"
    },
    "papermill": {
     "duration": 0.022897,
     "end_time": "2022-04-10T10:37:36.831398",
     "exception": false,
     "start_time": "2022-04-10T10:37:36.808501",
     "status": "completed"
    },
    "tags": []
   },
   "source": [
    "## Getting features and target value."
   ]
  },
  {
   "cell_type": "code",
   "execution_count": 17,
   "id": "791bc768",
   "metadata": {
    "execution": {
     "iopub.execute_input": "2022-04-10T10:37:36.886056Z",
     "iopub.status.busy": "2022-04-10T10:37:36.885358Z",
     "iopub.status.idle": "2022-04-10T10:37:36.888621Z",
     "shell.execute_reply": "2022-04-10T10:37:36.888160Z",
     "shell.execute_reply.started": "2022-04-10T10:28:39.498816Z"
    },
    "papermill": {
     "duration": 0.033897,
     "end_time": "2022-04-10T10:37:36.888777",
     "exception": false,
     "start_time": "2022-04-10T10:37:36.854880",
     "status": "completed"
    },
    "tags": []
   },
   "outputs": [
    {
     "data": {
      "text/plain": [
       "Pclass        int64\n",
       "Name         object\n",
       "Sex          object\n",
       "Age         float64\n",
       "SibSp         int64\n",
       "Parch         int64\n",
       "Ticket       object\n",
       "Fare        float64\n",
       "Embarked     object\n",
       "dtype: object"
      ]
     },
     "execution_count": 17,
     "metadata": {},
     "output_type": "execute_result"
    }
   ],
   "source": [
    "X_train = train.drop([\"Survived\"],axis = 1)\n",
    "X_train.dtypes"
   ]
  },
  {
   "cell_type": "code",
   "execution_count": 18,
   "id": "665c7b45",
   "metadata": {
    "execution": {
     "iopub.execute_input": "2022-04-10T10:37:36.943270Z",
     "iopub.status.busy": "2022-04-10T10:37:36.942672Z",
     "iopub.status.idle": "2022-04-10T10:37:36.945144Z",
     "shell.execute_reply": "2022-04-10T10:37:36.945586Z",
     "shell.execute_reply.started": "2022-04-10T10:28:45.643164Z"
    },
    "papermill": {
     "duration": 0.032688,
     "end_time": "2022-04-10T10:37:36.945756",
     "exception": false,
     "start_time": "2022-04-10T10:37:36.913068",
     "status": "completed"
    },
    "tags": []
   },
   "outputs": [
    {
     "data": {
      "text/plain": [
       "PassengerId\n",
       "1     0\n",
       "2     1\n",
       "3     1\n",
       "4     1\n",
       "5     0\n",
       "6     0\n",
       "7     0\n",
       "8     0\n",
       "9     1\n",
       "10    1\n",
       "Name: Survived, dtype: int64"
      ]
     },
     "execution_count": 18,
     "metadata": {},
     "output_type": "execute_result"
    }
   ],
   "source": [
    "Y_train = train[\"Survived\"]\n",
    "Y_train[:10]"
   ]
  },
  {
   "cell_type": "markdown",
   "id": "c9d752bb",
   "metadata": {
    "execution": {
     "iopub.execute_input": "2022-04-10T10:29:37.664643Z",
     "iopub.status.busy": "2022-04-10T10:29:37.664051Z",
     "iopub.status.idle": "2022-04-10T10:29:37.669007Z",
     "shell.execute_reply": "2022-04-10T10:29:37.668022Z",
     "shell.execute_reply.started": "2022-04-10T10:29:37.664581Z"
    },
    "papermill": {
     "duration": 0.02426,
     "end_time": "2022-04-10T10:37:36.993608",
     "exception": false,
     "start_time": "2022-04-10T10:37:36.969348",
     "status": "completed"
    },
    "tags": []
   },
   "source": [
    "## cleaning data so that we can use it for model training"
   ]
  },
  {
   "cell_type": "code",
   "execution_count": 19,
   "id": "ce7b4dc0",
   "metadata": {
    "execution": {
     "iopub.execute_input": "2022-04-10T10:37:37.046790Z",
     "iopub.status.busy": "2022-04-10T10:37:37.046162Z",
     "iopub.status.idle": "2022-04-10T10:37:37.057122Z",
     "shell.execute_reply": "2022-04-10T10:37:37.056627Z",
     "shell.execute_reply.started": "2022-04-10T10:30:50.511767Z"
    },
    "papermill": {
     "duration": 0.039745,
     "end_time": "2022-04-10T10:37:37.057258",
     "exception": false,
     "start_time": "2022-04-10T10:37:37.017513",
     "status": "completed"
    },
    "tags": []
   },
   "outputs": [
    {
     "data": {
      "text/html": [
       "<div>\n",
       "<style scoped>\n",
       "    .dataframe tbody tr th:only-of-type {\n",
       "        vertical-align: middle;\n",
       "    }\n",
       "\n",
       "    .dataframe tbody tr th {\n",
       "        vertical-align: top;\n",
       "    }\n",
       "\n",
       "    .dataframe thead th {\n",
       "        text-align: right;\n",
       "    }\n",
       "</style>\n",
       "<table border=\"1\" class=\"dataframe\">\n",
       "  <thead>\n",
       "    <tr style=\"text-align: right;\">\n",
       "      <th></th>\n",
       "      <th>Pclass</th>\n",
       "      <th>Name</th>\n",
       "      <th>Sex</th>\n",
       "      <th>Age</th>\n",
       "      <th>SibSp</th>\n",
       "      <th>Parch</th>\n",
       "      <th>Ticket</th>\n",
       "      <th>Fare</th>\n",
       "      <th>Embarked</th>\n",
       "    </tr>\n",
       "    <tr>\n",
       "      <th>PassengerId</th>\n",
       "      <th></th>\n",
       "      <th></th>\n",
       "      <th></th>\n",
       "      <th></th>\n",
       "      <th></th>\n",
       "      <th></th>\n",
       "      <th></th>\n",
       "      <th></th>\n",
       "      <th></th>\n",
       "    </tr>\n",
       "  </thead>\n",
       "  <tbody>\n",
       "    <tr>\n",
       "      <th>1</th>\n",
       "      <td>3</td>\n",
       "      <td>Braund, Mr. Owen Harris</td>\n",
       "      <td>male</td>\n",
       "      <td>22.0</td>\n",
       "      <td>1</td>\n",
       "      <td>0</td>\n",
       "      <td>A/5 21171</td>\n",
       "      <td>7.2500</td>\n",
       "      <td>S</td>\n",
       "    </tr>\n",
       "    <tr>\n",
       "      <th>2</th>\n",
       "      <td>1</td>\n",
       "      <td>Cumings, Mrs. John Bradley (Florence Briggs Th...</td>\n",
       "      <td>female</td>\n",
       "      <td>38.0</td>\n",
       "      <td>1</td>\n",
       "      <td>0</td>\n",
       "      <td>PC 17599</td>\n",
       "      <td>71.2833</td>\n",
       "      <td>C</td>\n",
       "    </tr>\n",
       "    <tr>\n",
       "      <th>3</th>\n",
       "      <td>3</td>\n",
       "      <td>Heikkinen, Miss. Laina</td>\n",
       "      <td>female</td>\n",
       "      <td>26.0</td>\n",
       "      <td>0</td>\n",
       "      <td>0</td>\n",
       "      <td>STON/O2. 3101282</td>\n",
       "      <td>7.9250</td>\n",
       "      <td>S</td>\n",
       "    </tr>\n",
       "    <tr>\n",
       "      <th>4</th>\n",
       "      <td>1</td>\n",
       "      <td>Futrelle, Mrs. Jacques Heath (Lily May Peel)</td>\n",
       "      <td>female</td>\n",
       "      <td>35.0</td>\n",
       "      <td>1</td>\n",
       "      <td>0</td>\n",
       "      <td>113803</td>\n",
       "      <td>53.1000</td>\n",
       "      <td>S</td>\n",
       "    </tr>\n",
       "    <tr>\n",
       "      <th>5</th>\n",
       "      <td>3</td>\n",
       "      <td>Allen, Mr. William Henry</td>\n",
       "      <td>male</td>\n",
       "      <td>35.0</td>\n",
       "      <td>0</td>\n",
       "      <td>0</td>\n",
       "      <td>373450</td>\n",
       "      <td>8.0500</td>\n",
       "      <td>S</td>\n",
       "    </tr>\n",
       "  </tbody>\n",
       "</table>\n",
       "</div>"
      ],
      "text/plain": [
       "             Pclass                                               Name  \\\n",
       "PassengerId                                                              \n",
       "1                 3                            Braund, Mr. Owen Harris   \n",
       "2                 1  Cumings, Mrs. John Bradley (Florence Briggs Th...   \n",
       "3                 3                             Heikkinen, Miss. Laina   \n",
       "4                 1       Futrelle, Mrs. Jacques Heath (Lily May Peel)   \n",
       "5                 3                           Allen, Mr. William Henry   \n",
       "\n",
       "                Sex   Age  SibSp  Parch            Ticket     Fare Embarked  \n",
       "PassengerId                                                                  \n",
       "1              male  22.0      1      0         A/5 21171   7.2500        S  \n",
       "2            female  38.0      1      0          PC 17599  71.2833        C  \n",
       "3            female  26.0      0      0  STON/O2. 3101282   7.9250        S  \n",
       "4            female  35.0      1      0            113803  53.1000        S  \n",
       "5              male  35.0      0      0            373450   8.0500        S  "
      ]
     },
     "execution_count": 19,
     "metadata": {},
     "output_type": "execute_result"
    }
   ],
   "source": [
    "X_train.head()"
   ]
  },
  {
   "cell_type": "code",
   "execution_count": 20,
   "id": "0365bb02",
   "metadata": {
    "execution": {
     "iopub.execute_input": "2022-04-10T10:37:37.114565Z",
     "iopub.status.busy": "2022-04-10T10:37:37.113944Z",
     "iopub.status.idle": "2022-04-10T10:37:37.117461Z",
     "shell.execute_reply": "2022-04-10T10:37:37.116923Z",
     "shell.execute_reply.started": "2022-04-10T10:31:07.200574Z"
    },
    "papermill": {
     "duration": 0.035666,
     "end_time": "2022-04-10T10:37:37.117633",
     "exception": false,
     "start_time": "2022-04-10T10:37:37.081967",
     "status": "completed"
    },
    "tags": []
   },
   "outputs": [
    {
     "data": {
      "text/plain": [
       "Pclass      0\n",
       "Name        0\n",
       "Sex         0\n",
       "Age         0\n",
       "SibSp       0\n",
       "Parch       0\n",
       "Ticket      0\n",
       "Fare        0\n",
       "Embarked    0\n",
       "dtype: int64"
      ]
     },
     "execution_count": 20,
     "metadata": {},
     "output_type": "execute_result"
    }
   ],
   "source": [
    "X_train.isnull().sum()"
   ]
  },
  {
   "cell_type": "code",
   "execution_count": null,
   "id": "0da407f4",
   "metadata": {
    "papermill": {
     "duration": 0.024137,
     "end_time": "2022-04-10T10:37:37.166448",
     "exception": false,
     "start_time": "2022-04-10T10:37:37.142311",
     "status": "completed"
    },
    "tags": []
   },
   "outputs": [],
   "source": []
  },
  {
   "cell_type": "markdown",
   "id": "7f86fa7e",
   "metadata": {
    "papermill": {
     "duration": 0.023985,
     "end_time": "2022-04-10T10:37:37.215172",
     "exception": false,
     "start_time": "2022-04-10T10:37:37.191187",
     "status": "completed"
    },
    "tags": []
   },
   "source": [
    "## Using sklearn and Randomforestclassification"
   ]
  },
  {
   "cell_type": "code",
   "execution_count": 21,
   "id": "914b5b2e",
   "metadata": {
    "execution": {
     "iopub.execute_input": "2022-04-10T10:37:37.268709Z",
     "iopub.status.busy": "2022-04-10T10:37:37.268019Z",
     "iopub.status.idle": "2022-04-10T10:37:38.490379Z",
     "shell.execute_reply": "2022-04-10T10:37:38.489709Z"
    },
    "papermill": {
     "duration": 1.251026,
     "end_time": "2022-04-10T10:37:38.490539",
     "exception": false,
     "start_time": "2022-04-10T10:37:37.239513",
     "status": "completed"
    },
    "tags": []
   },
   "outputs": [],
   "source": [
    "from sklearn.model_selection import train_test_split\n",
    "from sklearn.ensemble import RandomForestClassifier"
   ]
  }
 ],
 "metadata": {
  "kernelspec": {
   "display_name": "Python 3",
   "language": "python",
   "name": "python3"
  },
  "language_info": {
   "codemirror_mode": {
    "name": "ipython",
    "version": 3
   },
   "file_extension": ".py",
   "mimetype": "text/x-python",
   "name": "python",
   "nbconvert_exporter": "python",
   "pygments_lexer": "ipython3",
   "version": "3.7.12"
  },
  "papermill": {
   "default_parameters": {},
   "duration": 11.895485,
   "end_time": "2022-04-10T10:37:39.226206",
   "environment_variables": {},
   "exception": null,
   "input_path": "__notebook__.ipynb",
   "output_path": "__notebook__.ipynb",
   "parameters": {},
   "start_time": "2022-04-10T10:37:27.330721",
   "version": "2.3.3"
  }
 },
 "nbformat": 4,
 "nbformat_minor": 5
}
