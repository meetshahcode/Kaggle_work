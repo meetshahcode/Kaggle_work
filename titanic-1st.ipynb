{
 "cells": [
  {
   "cell_type": "markdown",
   "id": "4d2f0aca",
   "metadata": {
    "papermill": {
     "duration": 0.049808,
     "end_time": "2022-04-10T14:48:06.106485",
     "exception": false,
     "start_time": "2022-04-10T14:48:06.056677",
     "status": "completed"
    },
    "tags": []
   },
   "source": [
    "# Environment setup"
   ]
  },
  {
   "cell_type": "code",
   "execution_count": 1,
   "id": "330da453",
   "metadata": {
    "_cell_guid": "b1076dfc-b9ad-4769-8c92-a6c4dae69d19",
    "_uuid": "8f2839f25d086af736a60e9eeb907d3b93b6e0e5",
    "execution": {
     "iopub.execute_input": "2022-04-10T14:48:06.241529Z",
     "iopub.status.busy": "2022-04-10T14:48:06.228867Z",
     "iopub.status.idle": "2022-04-10T14:48:07.366284Z",
     "shell.execute_reply": "2022-04-10T14:48:07.365561Z",
     "shell.execute_reply.started": "2022-04-10T14:39:15.916467Z"
    },
    "papermill": {
     "duration": 1.206042,
     "end_time": "2022-04-10T14:48:07.366458",
     "exception": false,
     "start_time": "2022-04-10T14:48:06.160416",
     "status": "completed"
    },
    "tags": []
   },
   "outputs": [
    {
     "name": "stdout",
     "output_type": "stream",
     "text": [
      "/kaggle/input/titanic/train.csv\n",
      "/kaggle/input/titanic/test.csv\n",
      "/kaggle/input/titanic/gender_submission.csv\n"
     ]
    }
   ],
   "source": [
    "# This Python 3 environment comes with many helpful analytics libraries installed\n",
    "# It is defined by the kaggle/python Docker image: https://github.com/kaggle/docker-python\n",
    "# For example, here's several helpful packages to load\n",
    "\n",
    "import numpy as np # linear algebra\n",
    "import pandas as pd # data processing, CSV file I/O (e.g. pd.read_csv)\n",
    "import matplotlib.pyplot as plt\n",
    "%matplotlib inline\n",
    "import seaborn as sns\n",
    "sns.set_theme(style=\"whitegrid\")\n",
    "\n",
    "# Input data files are available in the read-only \"../input/\" directory\n",
    "# For example, running this (by clicking run or pressing Shift+Enter) will list all files under the input directory\n",
    "\n",
    "import os\n",
    "for dirname, _, filenames in os.walk('/kaggle/input'):\n",
    "    for filename in filenames:\n",
    "        print(os.path.join(dirname, filename))\n",
    "\n",
    "# You can write up to 20GB to the current directory (/kaggle/working/) that gets preserved as output when you create a version using \"Save & Run All\" \n",
    "# You can also write temporary files to /kaggle/temp/, but they won't be saved outside of the current session"
   ]
  },
  {
   "cell_type": "markdown",
   "id": "b3253c01",
   "metadata": {
    "papermill": {
     "duration": 0.050768,
     "end_time": "2022-04-10T14:48:07.466222",
     "exception": false,
     "start_time": "2022-04-10T14:48:07.415454",
     "status": "completed"
    },
    "tags": []
   },
   "source": [
    "## Getting all data."
   ]
  },
  {
   "cell_type": "code",
   "execution_count": 2,
   "id": "8badba7a",
   "metadata": {
    "execution": {
     "iopub.execute_input": "2022-04-10T14:48:07.572116Z",
     "iopub.status.busy": "2022-04-10T14:48:07.571275Z",
     "iopub.status.idle": "2022-04-10T14:48:07.602305Z",
     "shell.execute_reply": "2022-04-10T14:48:07.602963Z",
     "shell.execute_reply.started": "2022-04-10T14:39:16.418467Z"
    },
    "papermill": {
     "duration": 0.08731,
     "end_time": "2022-04-10T14:48:07.603163",
     "exception": false,
     "start_time": "2022-04-10T14:48:07.515853",
     "status": "completed"
    },
    "tags": []
   },
   "outputs": [],
   "source": [
    "train=pd.read_csv(\"../input/titanic/train.csv\")\n",
    "test=pd.read_csv(\"../input/titanic/test.csv\")\n",
    "submission=pd.read_csv(\"../input/titanic/gender_submission.csv\")"
   ]
  },
  {
   "cell_type": "markdown",
   "id": "f992b565",
   "metadata": {
    "papermill": {
     "duration": 0.051212,
     "end_time": "2022-04-10T14:48:07.703483",
     "exception": false,
     "start_time": "2022-04-10T14:48:07.652271",
     "status": "completed"
    },
    "tags": []
   },
   "source": [
    "# Exploring the Data"
   ]
  },
  {
   "cell_type": "code",
   "execution_count": 3,
   "id": "83fe9399",
   "metadata": {
    "execution": {
     "iopub.execute_input": "2022-04-10T14:48:07.811863Z",
     "iopub.status.busy": "2022-04-10T14:48:07.811106Z",
     "iopub.status.idle": "2022-04-10T14:48:07.831354Z",
     "shell.execute_reply": "2022-04-10T14:48:07.831970Z",
     "shell.execute_reply.started": "2022-04-10T14:39:17.562576Z"
    },
    "papermill": {
     "duration": 0.077632,
     "end_time": "2022-04-10T14:48:07.832172",
     "exception": false,
     "start_time": "2022-04-10T14:48:07.754540",
     "status": "completed"
    },
    "tags": []
   },
   "outputs": [
    {
     "data": {
      "text/html": [
       "<div>\n",
       "<style scoped>\n",
       "    .dataframe tbody tr th:only-of-type {\n",
       "        vertical-align: middle;\n",
       "    }\n",
       "\n",
       "    .dataframe tbody tr th {\n",
       "        vertical-align: top;\n",
       "    }\n",
       "\n",
       "    .dataframe thead th {\n",
       "        text-align: right;\n",
       "    }\n",
       "</style>\n",
       "<table border=\"1\" class=\"dataframe\">\n",
       "  <thead>\n",
       "    <tr style=\"text-align: right;\">\n",
       "      <th></th>\n",
       "      <th>PassengerId</th>\n",
       "      <th>Survived</th>\n",
       "      <th>Pclass</th>\n",
       "      <th>Name</th>\n",
       "      <th>Sex</th>\n",
       "      <th>Age</th>\n",
       "      <th>SibSp</th>\n",
       "      <th>Parch</th>\n",
       "      <th>Ticket</th>\n",
       "      <th>Fare</th>\n",
       "      <th>Cabin</th>\n",
       "      <th>Embarked</th>\n",
       "    </tr>\n",
       "  </thead>\n",
       "  <tbody>\n",
       "    <tr>\n",
       "      <th>0</th>\n",
       "      <td>1</td>\n",
       "      <td>0</td>\n",
       "      <td>3</td>\n",
       "      <td>Braund, Mr. Owen Harris</td>\n",
       "      <td>male</td>\n",
       "      <td>22.0</td>\n",
       "      <td>1</td>\n",
       "      <td>0</td>\n",
       "      <td>A/5 21171</td>\n",
       "      <td>7.2500</td>\n",
       "      <td>NaN</td>\n",
       "      <td>S</td>\n",
       "    </tr>\n",
       "    <tr>\n",
       "      <th>1</th>\n",
       "      <td>2</td>\n",
       "      <td>1</td>\n",
       "      <td>1</td>\n",
       "      <td>Cumings, Mrs. John Bradley (Florence Briggs Th...</td>\n",
       "      <td>female</td>\n",
       "      <td>38.0</td>\n",
       "      <td>1</td>\n",
       "      <td>0</td>\n",
       "      <td>PC 17599</td>\n",
       "      <td>71.2833</td>\n",
       "      <td>C85</td>\n",
       "      <td>C</td>\n",
       "    </tr>\n",
       "    <tr>\n",
       "      <th>2</th>\n",
       "      <td>3</td>\n",
       "      <td>1</td>\n",
       "      <td>3</td>\n",
       "      <td>Heikkinen, Miss. Laina</td>\n",
       "      <td>female</td>\n",
       "      <td>26.0</td>\n",
       "      <td>0</td>\n",
       "      <td>0</td>\n",
       "      <td>STON/O2. 3101282</td>\n",
       "      <td>7.9250</td>\n",
       "      <td>NaN</td>\n",
       "      <td>S</td>\n",
       "    </tr>\n",
       "    <tr>\n",
       "      <th>3</th>\n",
       "      <td>4</td>\n",
       "      <td>1</td>\n",
       "      <td>1</td>\n",
       "      <td>Futrelle, Mrs. Jacques Heath (Lily May Peel)</td>\n",
       "      <td>female</td>\n",
       "      <td>35.0</td>\n",
       "      <td>1</td>\n",
       "      <td>0</td>\n",
       "      <td>113803</td>\n",
       "      <td>53.1000</td>\n",
       "      <td>C123</td>\n",
       "      <td>S</td>\n",
       "    </tr>\n",
       "    <tr>\n",
       "      <th>4</th>\n",
       "      <td>5</td>\n",
       "      <td>0</td>\n",
       "      <td>3</td>\n",
       "      <td>Allen, Mr. William Henry</td>\n",
       "      <td>male</td>\n",
       "      <td>35.0</td>\n",
       "      <td>0</td>\n",
       "      <td>0</td>\n",
       "      <td>373450</td>\n",
       "      <td>8.0500</td>\n",
       "      <td>NaN</td>\n",
       "      <td>S</td>\n",
       "    </tr>\n",
       "  </tbody>\n",
       "</table>\n",
       "</div>"
      ],
      "text/plain": [
       "   PassengerId  Survived  Pclass  \\\n",
       "0            1         0       3   \n",
       "1            2         1       1   \n",
       "2            3         1       3   \n",
       "3            4         1       1   \n",
       "4            5         0       3   \n",
       "\n",
       "                                                Name     Sex   Age  SibSp  \\\n",
       "0                            Braund, Mr. Owen Harris    male  22.0      1   \n",
       "1  Cumings, Mrs. John Bradley (Florence Briggs Th...  female  38.0      1   \n",
       "2                             Heikkinen, Miss. Laina  female  26.0      0   \n",
       "3       Futrelle, Mrs. Jacques Heath (Lily May Peel)  female  35.0      1   \n",
       "4                           Allen, Mr. William Henry    male  35.0      0   \n",
       "\n",
       "   Parch            Ticket     Fare Cabin Embarked  \n",
       "0      0         A/5 21171   7.2500   NaN        S  \n",
       "1      0          PC 17599  71.2833   C85        C  \n",
       "2      0  STON/O2. 3101282   7.9250   NaN        S  \n",
       "3      0            113803  53.1000  C123        S  \n",
       "4      0            373450   8.0500   NaN        S  "
      ]
     },
     "execution_count": 3,
     "metadata": {},
     "output_type": "execute_result"
    }
   ],
   "source": [
    "train.head()"
   ]
  },
  {
   "cell_type": "code",
   "execution_count": 4,
   "id": "fa2a0d74",
   "metadata": {
    "execution": {
     "iopub.execute_input": "2022-04-10T14:48:07.931413Z",
     "iopub.status.busy": "2022-04-10T14:48:07.930694Z",
     "iopub.status.idle": "2022-04-10T14:48:07.938547Z",
     "shell.execute_reply": "2022-04-10T14:48:07.939227Z",
     "shell.execute_reply.started": "2022-04-10T14:39:17.943028Z"
    },
    "papermill": {
     "duration": 0.059411,
     "end_time": "2022-04-10T14:48:07.939429",
     "exception": false,
     "start_time": "2022-04-10T14:48:07.880018",
     "status": "completed"
    },
    "tags": []
   },
   "outputs": [
    {
     "data": {
      "text/plain": [
       "PassengerId      int64\n",
       "Survived         int64\n",
       "Pclass           int64\n",
       "Name            object\n",
       "Sex             object\n",
       "Age            float64\n",
       "SibSp            int64\n",
       "Parch            int64\n",
       "Ticket          object\n",
       "Fare           float64\n",
       "Cabin           object\n",
       "Embarked        object\n",
       "dtype: object"
      ]
     },
     "execution_count": 4,
     "metadata": {},
     "output_type": "execute_result"
    }
   ],
   "source": [
    "train.dtypes"
   ]
  },
  {
   "cell_type": "code",
   "execution_count": 5,
   "id": "942e3a63",
   "metadata": {
    "execution": {
     "iopub.execute_input": "2022-04-10T14:48:08.040558Z",
     "iopub.status.busy": "2022-04-10T14:48:08.039512Z",
     "iopub.status.idle": "2022-04-10T14:48:08.045813Z",
     "shell.execute_reply": "2022-04-10T14:48:08.046460Z",
     "shell.execute_reply.started": "2022-04-10T14:39:18.318826Z"
    },
    "papermill": {
     "duration": 0.058589,
     "end_time": "2022-04-10T14:48:08.046644",
     "exception": false,
     "start_time": "2022-04-10T14:48:07.988055",
     "status": "completed"
    },
    "tags": []
   },
   "outputs": [
    {
     "data": {
      "text/plain": [
       "(10692, (891, 12))"
      ]
     },
     "execution_count": 5,
     "metadata": {},
     "output_type": "execute_result"
    }
   ],
   "source": [
    "train.size , train.shape"
   ]
  },
  {
   "cell_type": "code",
   "execution_count": 6,
   "id": "53c877ad",
   "metadata": {
    "execution": {
     "iopub.execute_input": "2022-04-10T14:48:08.152353Z",
     "iopub.status.busy": "2022-04-10T14:48:08.151609Z",
     "iopub.status.idle": "2022-04-10T14:48:08.195321Z",
     "shell.execute_reply": "2022-04-10T14:48:08.195899Z",
     "shell.execute_reply.started": "2022-04-10T14:39:18.696678Z"
    },
    "papermill": {
     "duration": 0.098487,
     "end_time": "2022-04-10T14:48:08.196087",
     "exception": false,
     "start_time": "2022-04-10T14:48:08.097600",
     "status": "completed"
    },
    "tags": []
   },
   "outputs": [
    {
     "data": {
      "text/html": [
       "<div>\n",
       "<style scoped>\n",
       "    .dataframe tbody tr th:only-of-type {\n",
       "        vertical-align: middle;\n",
       "    }\n",
       "\n",
       "    .dataframe tbody tr th {\n",
       "        vertical-align: top;\n",
       "    }\n",
       "\n",
       "    .dataframe thead th {\n",
       "        text-align: right;\n",
       "    }\n",
       "</style>\n",
       "<table border=\"1\" class=\"dataframe\">\n",
       "  <thead>\n",
       "    <tr style=\"text-align: right;\">\n",
       "      <th></th>\n",
       "      <th>PassengerId</th>\n",
       "      <th>Survived</th>\n",
       "      <th>Pclass</th>\n",
       "      <th>Age</th>\n",
       "      <th>SibSp</th>\n",
       "      <th>Parch</th>\n",
       "      <th>Fare</th>\n",
       "    </tr>\n",
       "  </thead>\n",
       "  <tbody>\n",
       "    <tr>\n",
       "      <th>count</th>\n",
       "      <td>891.000000</td>\n",
       "      <td>891.000000</td>\n",
       "      <td>891.000000</td>\n",
       "      <td>714.000000</td>\n",
       "      <td>891.000000</td>\n",
       "      <td>891.000000</td>\n",
       "      <td>891.000000</td>\n",
       "    </tr>\n",
       "    <tr>\n",
       "      <th>mean</th>\n",
       "      <td>446.000000</td>\n",
       "      <td>0.383838</td>\n",
       "      <td>2.308642</td>\n",
       "      <td>29.699118</td>\n",
       "      <td>0.523008</td>\n",
       "      <td>0.381594</td>\n",
       "      <td>32.204208</td>\n",
       "    </tr>\n",
       "    <tr>\n",
       "      <th>std</th>\n",
       "      <td>257.353842</td>\n",
       "      <td>0.486592</td>\n",
       "      <td>0.836071</td>\n",
       "      <td>14.526497</td>\n",
       "      <td>1.102743</td>\n",
       "      <td>0.806057</td>\n",
       "      <td>49.693429</td>\n",
       "    </tr>\n",
       "    <tr>\n",
       "      <th>min</th>\n",
       "      <td>1.000000</td>\n",
       "      <td>0.000000</td>\n",
       "      <td>1.000000</td>\n",
       "      <td>0.420000</td>\n",
       "      <td>0.000000</td>\n",
       "      <td>0.000000</td>\n",
       "      <td>0.000000</td>\n",
       "    </tr>\n",
       "    <tr>\n",
       "      <th>25%</th>\n",
       "      <td>223.500000</td>\n",
       "      <td>0.000000</td>\n",
       "      <td>2.000000</td>\n",
       "      <td>20.125000</td>\n",
       "      <td>0.000000</td>\n",
       "      <td>0.000000</td>\n",
       "      <td>7.910400</td>\n",
       "    </tr>\n",
       "    <tr>\n",
       "      <th>50%</th>\n",
       "      <td>446.000000</td>\n",
       "      <td>0.000000</td>\n",
       "      <td>3.000000</td>\n",
       "      <td>28.000000</td>\n",
       "      <td>0.000000</td>\n",
       "      <td>0.000000</td>\n",
       "      <td>14.454200</td>\n",
       "    </tr>\n",
       "    <tr>\n",
       "      <th>75%</th>\n",
       "      <td>668.500000</td>\n",
       "      <td>1.000000</td>\n",
       "      <td>3.000000</td>\n",
       "      <td>38.000000</td>\n",
       "      <td>1.000000</td>\n",
       "      <td>0.000000</td>\n",
       "      <td>31.000000</td>\n",
       "    </tr>\n",
       "    <tr>\n",
       "      <th>max</th>\n",
       "      <td>891.000000</td>\n",
       "      <td>1.000000</td>\n",
       "      <td>3.000000</td>\n",
       "      <td>80.000000</td>\n",
       "      <td>8.000000</td>\n",
       "      <td>6.000000</td>\n",
       "      <td>512.329200</td>\n",
       "    </tr>\n",
       "  </tbody>\n",
       "</table>\n",
       "</div>"
      ],
      "text/plain": [
       "       PassengerId    Survived      Pclass         Age       SibSp  \\\n",
       "count   891.000000  891.000000  891.000000  714.000000  891.000000   \n",
       "mean    446.000000    0.383838    2.308642   29.699118    0.523008   \n",
       "std     257.353842    0.486592    0.836071   14.526497    1.102743   \n",
       "min       1.000000    0.000000    1.000000    0.420000    0.000000   \n",
       "25%     223.500000    0.000000    2.000000   20.125000    0.000000   \n",
       "50%     446.000000    0.000000    3.000000   28.000000    0.000000   \n",
       "75%     668.500000    1.000000    3.000000   38.000000    1.000000   \n",
       "max     891.000000    1.000000    3.000000   80.000000    8.000000   \n",
       "\n",
       "            Parch        Fare  \n",
       "count  891.000000  891.000000  \n",
       "mean     0.381594   32.204208  \n",
       "std      0.806057   49.693429  \n",
       "min      0.000000    0.000000  \n",
       "25%      0.000000    7.910400  \n",
       "50%      0.000000   14.454200  \n",
       "75%      0.000000   31.000000  \n",
       "max      6.000000  512.329200  "
      ]
     },
     "execution_count": 6,
     "metadata": {},
     "output_type": "execute_result"
    }
   ],
   "source": [
    "train.describe()"
   ]
  },
  {
   "cell_type": "code",
   "execution_count": 7,
   "id": "0e7182db",
   "metadata": {
    "execution": {
     "iopub.execute_input": "2022-04-10T14:48:08.306558Z",
     "iopub.status.busy": "2022-04-10T14:48:08.305881Z",
     "iopub.status.idle": "2022-04-10T14:48:08.324131Z",
     "shell.execute_reply": "2022-04-10T14:48:08.324703Z",
     "shell.execute_reply.started": "2022-04-10T14:39:19.014442Z"
    },
    "papermill": {
     "duration": 0.076414,
     "end_time": "2022-04-10T14:48:08.324924",
     "exception": false,
     "start_time": "2022-04-10T14:48:08.248510",
     "status": "completed"
    },
    "tags": []
   },
   "outputs": [
    {
     "data": {
      "text/html": [
       "<div>\n",
       "<style scoped>\n",
       "    .dataframe tbody tr th:only-of-type {\n",
       "        vertical-align: middle;\n",
       "    }\n",
       "\n",
       "    .dataframe tbody tr th {\n",
       "        vertical-align: top;\n",
       "    }\n",
       "\n",
       "    .dataframe thead th {\n",
       "        text-align: right;\n",
       "    }\n",
       "</style>\n",
       "<table border=\"1\" class=\"dataframe\">\n",
       "  <thead>\n",
       "    <tr style=\"text-align: right;\">\n",
       "      <th></th>\n",
       "      <th>Name</th>\n",
       "      <th>Sex</th>\n",
       "      <th>Ticket</th>\n",
       "      <th>Cabin</th>\n",
       "      <th>Embarked</th>\n",
       "    </tr>\n",
       "  </thead>\n",
       "  <tbody>\n",
       "    <tr>\n",
       "      <th>count</th>\n",
       "      <td>891</td>\n",
       "      <td>891</td>\n",
       "      <td>891</td>\n",
       "      <td>204</td>\n",
       "      <td>889</td>\n",
       "    </tr>\n",
       "    <tr>\n",
       "      <th>unique</th>\n",
       "      <td>891</td>\n",
       "      <td>2</td>\n",
       "      <td>681</td>\n",
       "      <td>147</td>\n",
       "      <td>3</td>\n",
       "    </tr>\n",
       "    <tr>\n",
       "      <th>top</th>\n",
       "      <td>Braund, Mr. Owen Harris</td>\n",
       "      <td>male</td>\n",
       "      <td>347082</td>\n",
       "      <td>B96 B98</td>\n",
       "      <td>S</td>\n",
       "    </tr>\n",
       "    <tr>\n",
       "      <th>freq</th>\n",
       "      <td>1</td>\n",
       "      <td>577</td>\n",
       "      <td>7</td>\n",
       "      <td>4</td>\n",
       "      <td>644</td>\n",
       "    </tr>\n",
       "  </tbody>\n",
       "</table>\n",
       "</div>"
      ],
      "text/plain": [
       "                           Name   Sex  Ticket    Cabin Embarked\n",
       "count                       891   891     891      204      889\n",
       "unique                      891     2     681      147        3\n",
       "top     Braund, Mr. Owen Harris  male  347082  B96 B98        S\n",
       "freq                          1   577       7        4      644"
      ]
     },
     "execution_count": 7,
     "metadata": {},
     "output_type": "execute_result"
    }
   ],
   "source": [
    "train.describe(include=\"O\")"
   ]
  },
  {
   "cell_type": "markdown",
   "id": "6a3fec98",
   "metadata": {
    "papermill": {
     "duration": 0.049934,
     "end_time": "2022-04-10T14:48:08.426010",
     "exception": false,
     "start_time": "2022-04-10T14:48:08.376076",
     "status": "completed"
    },
    "tags": []
   },
   "source": [
    "### Gender/sex analysis"
   ]
  },
  {
   "cell_type": "code",
   "execution_count": 8,
   "id": "e902d69b",
   "metadata": {
    "execution": {
     "iopub.execute_input": "2022-04-10T14:48:08.532806Z",
     "iopub.status.busy": "2022-04-10T14:48:08.531957Z",
     "iopub.status.idle": "2022-04-10T14:48:08.776143Z",
     "shell.execute_reply": "2022-04-10T14:48:08.775371Z",
     "shell.execute_reply.started": "2022-04-10T14:39:19.536258Z"
    },
    "papermill": {
     "duration": 0.299137,
     "end_time": "2022-04-10T14:48:08.776309",
     "exception": false,
     "start_time": "2022-04-10T14:48:08.477172",
     "status": "completed"
    },
    "tags": []
   },
   "outputs": [
    {
     "data": {
      "image/png": "[encoded data removed]",
      "text/plain": [
       "<Figure size 432x288 with 1 Axes>"
      ]
     },
     "metadata": {},
     "output_type": "display_data"
    }
   ],
   "source": [
    "ax = sns.countplot(x = train[\"Survived\"] , hue= train[\"Sex\"] , palette= \"cool\")\n",
    "for p in ax.patches:\n",
    "   ax.annotate(p.get_height(), (p.get_x()+0.15, p.get_height()/2))\n",
    "plt.show()"
   ]
  },
  {
   "cell_type": "code",
   "execution_count": 9,
   "id": "5d483fcc",
   "metadata": {
    "execution": {
     "iopub.execute_input": "2022-04-10T14:48:08.886813Z",
     "iopub.status.busy": "2022-04-10T14:48:08.886107Z",
     "iopub.status.idle": "2022-04-10T14:48:10.357473Z",
     "shell.execute_reply": "2022-04-10T14:48:10.358161Z",
     "shell.execute_reply.started": "2022-04-10T14:39:19.759062Z"
    },
    "papermill": {
     "duration": 1.530226,
     "end_time": "2022-04-10T14:48:10.358361",
     "exception": false,
     "start_time": "2022-04-10T14:48:08.828135",
     "status": "completed"
    },
    "tags": []
   },
   "outputs": [
    {
     "data": {
      "image/png": "[encoded data removed]",
      "text/plain": [
       "<Figure size 781.55x360 with 2 Axes>"
      ]
     },
     "metadata": {},
     "output_type": "display_data"
    }
   ],
   "source": [
    "ax = sns.displot(data=train, x=\"Age\", hue=\"Survived\" , col=\"Sex\",kind = \"hist\"\n",
    "                 ,rug= True ,palette= \"winter\")"
   ]
  },
  {
   "cell_type": "markdown",
   "id": "08480423",
   "metadata": {
    "execution": {
     "iopub.execute_input": "2022-04-10T11:56:05.733486Z",
     "iopub.status.busy": "2022-04-10T11:56:05.733169Z",
     "iopub.status.idle": "2022-04-10T11:56:05.737785Z",
     "shell.execute_reply": "2022-04-10T11:56:05.736442Z",
     "shell.execute_reply.started": "2022-04-10T11:56:05.733457Z"
    },
    "papermill": {
     "duration": 0.052662,
     "end_time": "2022-04-10T14:48:10.465362",
     "exception": false,
     "start_time": "2022-04-10T14:48:10.412700",
     "status": "completed"
    },
    "tags": []
   },
   "source": [
    "### Age analysis"
   ]
  },
  {
   "cell_type": "code",
   "execution_count": 10,
   "id": "1362a635",
   "metadata": {
    "execution": {
     "iopub.execute_input": "2022-04-10T14:48:10.593827Z",
     "iopub.status.busy": "2022-04-10T14:48:10.592684Z",
     "iopub.status.idle": "2022-04-10T14:48:10.889326Z",
     "shell.execute_reply": "2022-04-10T14:48:10.888674Z",
     "shell.execute_reply.started": "2022-04-10T14:39:20.885725Z"
    },
    "papermill": {
     "duration": 0.369978,
     "end_time": "2022-04-10T14:48:10.889485",
     "exception": false,
     "start_time": "2022-04-10T14:48:10.519507",
     "status": "completed"
    },
    "tags": []
   },
   "outputs": [
    {
     "data": {
      "text/plain": [
       "<AxesSubplot:xlabel='Age'>"
      ]
     },
     "execution_count": 10,
     "metadata": {},
     "output_type": "execute_result"
    },
    {
     "data": {
      "image/png": "[encoded data removed]",
      "text/plain": [
       "<Figure size 432x288 with 1 Axes>"
      ]
     },
     "metadata": {},
     "output_type": "display_data"
    }
   ],
   "source": [
    "sns.boxenplot(x= 'Age' , data = train)"
   ]
  },
  {
   "cell_type": "code",
   "execution_count": 11,
   "id": "ae64cb77",
   "metadata": {
    "execution": {
     "iopub.execute_input": "2022-04-10T14:48:11.033476Z",
     "iopub.status.busy": "2022-04-10T14:48:11.029369Z",
     "iopub.status.idle": "2022-04-10T14:48:11.428070Z",
     "shell.execute_reply": "2022-04-10T14:48:11.427459Z",
     "shell.execute_reply.started": "2022-04-10T14:39:21.125822Z"
    },
    "papermill": {
     "duration": 0.484317,
     "end_time": "2022-04-10T14:48:11.428231",
     "exception": false,
     "start_time": "2022-04-10T14:48:10.943914",
     "status": "completed"
    },
    "tags": []
   },
   "outputs": [
    {
     "data": {
      "text/plain": [
       "<AxesSubplot:xlabel='Age', ylabel='Count'>"
      ]
     },
     "execution_count": 11,
     "metadata": {},
     "output_type": "execute_result"
    },
    {
     "data": {
      "image/png": "[encoded data removed]",
      "text/plain": [
       "<Figure size 432x288 with 1 Axes>"
      ]
     },
     "metadata": {},
     "output_type": "display_data"
    }
   ],
   "source": [
    "sns.histplot(data = train ,x = 'Age' )"
   ]
  },
  {
   "cell_type": "code",
   "execution_count": 12,
   "id": "85bb8805",
   "metadata": {
    "execution": {
     "iopub.execute_input": "2022-04-10T14:48:11.551644Z",
     "iopub.status.busy": "2022-04-10T14:48:11.545961Z",
     "iopub.status.idle": "2022-04-10T14:48:13.826962Z",
     "shell.execute_reply": "2022-04-10T14:48:13.826368Z",
     "shell.execute_reply.started": "2022-04-10T14:39:21.439671Z"
    },
    "papermill": {
     "duration": 2.342628,
     "end_time": "2022-04-10T14:48:13.827119",
     "exception": false,
     "start_time": "2022-04-10T14:48:11.484491",
     "status": "completed"
    },
    "tags": []
   },
   "outputs": [
    {
     "data": {
      "image/png": "[encoded data removed]",
      "text/plain": [
       "<Figure size 720x1080 with 6 Axes>"
      ]
     },
     "metadata": {},
     "output_type": "display_data"
    }
   ],
   "source": [
    "ax = sns.displot(data=train, x=\"Age\", col=\"Survived\" , row = \"Pclass\");"
   ]
  },
  {
   "cell_type": "markdown",
   "id": "b9b33524",
   "metadata": {
    "papermill": {
     "duration": 0.056038,
     "end_time": "2022-04-10T14:48:13.939646",
     "exception": false,
     "start_time": "2022-04-10T14:48:13.883608",
     "status": "completed"
    },
    "tags": []
   },
   "source": [
    "### Cheking and fixing null values"
   ]
  },
  {
   "cell_type": "code",
   "execution_count": 13,
   "id": "874f621d",
   "metadata": {
    "execution": {
     "iopub.execute_input": "2022-04-10T14:48:14.064440Z",
     "iopub.status.busy": "2022-04-10T14:48:14.063750Z",
     "iopub.status.idle": "2022-04-10T14:48:14.066865Z",
     "shell.execute_reply": "2022-04-10T14:48:14.067397Z",
     "shell.execute_reply.started": "2022-04-10T14:39:23.036048Z"
    },
    "papermill": {
     "duration": 0.07155,
     "end_time": "2022-04-10T14:48:14.067593",
     "exception": false,
     "start_time": "2022-04-10T14:48:13.996043",
     "status": "completed"
    },
    "tags": []
   },
   "outputs": [
    {
     "data": {
      "text/plain": [
       "PassengerId      0\n",
       "Survived         0\n",
       "Pclass           0\n",
       "Name             0\n",
       "Sex              0\n",
       "Age            177\n",
       "SibSp            0\n",
       "Parch            0\n",
       "Ticket           0\n",
       "Fare             0\n",
       "Cabin          687\n",
       "Embarked         2\n",
       "dtype: int64"
      ]
     },
     "execution_count": 13,
     "metadata": {},
     "output_type": "execute_result"
    }
   ],
   "source": [
    "train.isnull().sum()"
   ]
  },
  {
   "cell_type": "code",
   "execution_count": 14,
   "id": "0d6d96bb",
   "metadata": {
    "execution": {
     "iopub.execute_input": "2022-04-10T14:48:14.191641Z",
     "iopub.status.busy": "2022-04-10T14:48:14.190903Z",
     "iopub.status.idle": "2022-04-10T14:48:14.196151Z",
     "shell.execute_reply": "2022-04-10T14:48:14.196698Z",
     "shell.execute_reply.started": "2022-04-10T14:39:23.048266Z"
    },
    "papermill": {
     "duration": 0.072997,
     "end_time": "2022-04-10T14:48:14.196926",
     "exception": false,
     "start_time": "2022-04-10T14:48:14.123929",
     "status": "completed"
    },
    "tags": []
   },
   "outputs": [],
   "source": [
    "train.drop([\"Cabin\"],axis = 1,inplace=True)"
   ]
  },
  {
   "cell_type": "code",
   "execution_count": 15,
   "id": "0159fb98",
   "metadata": {
    "execution": {
     "iopub.execute_input": "2022-04-10T14:48:14.316484Z",
     "iopub.status.busy": "2022-04-10T14:48:14.315646Z",
     "iopub.status.idle": "2022-04-10T14:48:14.320901Z",
     "shell.execute_reply": "2022-04-10T14:48:14.321529Z",
     "shell.execute_reply.started": "2022-04-10T14:39:23.05909Z"
    },
    "papermill": {
     "duration": 0.066631,
     "end_time": "2022-04-10T14:48:14.321739",
     "exception": false,
     "start_time": "2022-04-10T14:48:14.255108",
     "status": "completed"
    },
    "tags": []
   },
   "outputs": [],
   "source": [
    "train['Age'].fillna(value = train[\"Age\"].mean(), inplace = True)"
   ]
  },
  {
   "cell_type": "code",
   "execution_count": 16,
   "id": "fcba3a49",
   "metadata": {
    "execution": {
     "iopub.execute_input": "2022-04-10T14:48:14.443961Z",
     "iopub.status.busy": "2022-04-10T14:48:14.442992Z",
     "iopub.status.idle": "2022-04-10T14:48:14.447160Z",
     "shell.execute_reply": "2022-04-10T14:48:14.447681Z",
     "shell.execute_reply.started": "2022-04-10T14:39:23.072409Z"
    },
    "papermill": {
     "duration": 0.067853,
     "end_time": "2022-04-10T14:48:14.447895",
     "exception": false,
     "start_time": "2022-04-10T14:48:14.380042",
     "status": "completed"
    },
    "tags": []
   },
   "outputs": [
    {
     "data": {
      "text/plain": [
       "array(['S', 'C', 'Q', nan], dtype=object)"
      ]
     },
     "execution_count": 16,
     "metadata": {},
     "output_type": "execute_result"
    }
   ],
   "source": [
    "train[\"Embarked\"].unique()"
   ]
  },
  {
   "cell_type": "code",
   "execution_count": 17,
   "id": "80244425",
   "metadata": {
    "execution": {
     "iopub.execute_input": "2022-04-10T14:48:14.569816Z",
     "iopub.status.busy": "2022-04-10T14:48:14.568785Z",
     "iopub.status.idle": "2022-04-10T14:48:14.576861Z",
     "shell.execute_reply": "2022-04-10T14:48:14.577395Z",
     "shell.execute_reply.started": "2022-04-10T14:39:23.084815Z"
    },
    "papermill": {
     "duration": 0.071076,
     "end_time": "2022-04-10T14:48:14.577593",
     "exception": false,
     "start_time": "2022-04-10T14:48:14.506517",
     "status": "completed"
    },
    "tags": []
   },
   "outputs": [
    {
     "data": {
      "text/plain": [
       "S    644\n",
       "C    168\n",
       "Q     77\n",
       "Name: Embarked, dtype: int64"
      ]
     },
     "execution_count": 17,
     "metadata": {},
     "output_type": "execute_result"
    }
   ],
   "source": [
    "train[\"Embarked\"].value_counts()"
   ]
  },
  {
   "cell_type": "code",
   "execution_count": 18,
   "id": "b7cfb6af",
   "metadata": {
    "execution": {
     "iopub.execute_input": "2022-04-10T14:48:14.701251Z",
     "iopub.status.busy": "2022-04-10T14:48:14.700299Z",
     "iopub.status.idle": "2022-04-10T14:48:14.704705Z",
     "shell.execute_reply": "2022-04-10T14:48:14.704087Z",
     "shell.execute_reply.started": "2022-04-10T14:39:23.099865Z"
    },
    "papermill": {
     "duration": 0.070284,
     "end_time": "2022-04-10T14:48:14.704878",
     "exception": false,
     "start_time": "2022-04-10T14:48:14.634594",
     "status": "completed"
    },
    "tags": []
   },
   "outputs": [
    {
     "data": {
      "text/plain": [
       "S    646\n",
       "C    168\n",
       "Q     77\n",
       "Name: Embarked, dtype: int64"
      ]
     },
     "execution_count": 18,
     "metadata": {},
     "output_type": "execute_result"
    }
   ],
   "source": [
    "train[\"Embarked\"].fillna(value = 'S' , inplace = True)\n",
    "train[\"Embarked\"].value_counts()"
   ]
  },
  {
   "cell_type": "code",
   "execution_count": 19,
   "id": "5842565d",
   "metadata": {
    "execution": {
     "iopub.execute_input": "2022-04-10T14:48:14.828340Z",
     "iopub.status.busy": "2022-04-10T14:48:14.827271Z",
     "iopub.status.idle": "2022-04-10T14:48:14.833032Z",
     "shell.execute_reply": "2022-04-10T14:48:14.833536Z",
     "shell.execute_reply.started": "2022-04-10T14:39:23.111029Z"
    },
    "papermill": {
     "duration": 0.069231,
     "end_time": "2022-04-10T14:48:14.833760",
     "exception": false,
     "start_time": "2022-04-10T14:48:14.764529",
     "status": "completed"
    },
    "tags": []
   },
   "outputs": [],
   "source": [
    "test.drop([\"Cabin\"],axis = 1 , inplace = True)"
   ]
  },
  {
   "cell_type": "code",
   "execution_count": 20,
   "id": "0ae2423a",
   "metadata": {
    "execution": {
     "iopub.execute_input": "2022-04-10T14:48:14.956604Z",
     "iopub.status.busy": "2022-04-10T14:48:14.955544Z",
     "iopub.status.idle": "2022-04-10T14:48:14.961437Z",
     "shell.execute_reply": "2022-04-10T14:48:14.961967Z",
     "shell.execute_reply.started": "2022-04-10T14:39:23.126623Z"
    },
    "papermill": {
     "duration": 0.068008,
     "end_time": "2022-04-10T14:48:14.962171",
     "exception": false,
     "start_time": "2022-04-10T14:48:14.894163",
     "status": "completed"
    },
    "tags": []
   },
   "outputs": [],
   "source": [
    "test['Age'].fillna(value = test[\"Age\"].mean(), inplace = True)\n",
    "test[\"Fare\"].fillna(value = test[\"Fare\"].mean(),inplace = True)"
   ]
  },
  {
   "cell_type": "code",
   "execution_count": 21,
   "id": "e3e09d2f",
   "metadata": {
    "execution": {
     "iopub.execute_input": "2022-04-10T14:48:15.086708Z",
     "iopub.status.busy": "2022-04-10T14:48:15.085904Z",
     "iopub.status.idle": "2022-04-10T14:48:15.092640Z",
     "shell.execute_reply": "2022-04-10T14:48:15.093298Z",
     "shell.execute_reply.started": "2022-04-10T14:39:23.137426Z"
    },
    "papermill": {
     "duration": 0.071377,
     "end_time": "2022-04-10T14:48:15.093504",
     "exception": false,
     "start_time": "2022-04-10T14:48:15.022127",
     "status": "completed"
    },
    "tags": []
   },
   "outputs": [
    {
     "data": {
      "text/plain": [
       "PassengerId    0\n",
       "Pclass         0\n",
       "Name           0\n",
       "Sex            0\n",
       "Age            0\n",
       "SibSp          0\n",
       "Parch          0\n",
       "Ticket         0\n",
       "Fare           0\n",
       "Embarked       0\n",
       "dtype: int64"
      ]
     },
     "execution_count": 21,
     "metadata": {},
     "output_type": "execute_result"
    }
   ],
   "source": [
    "test.isnull().sum()"
   ]
  },
  {
   "cell_type": "code",
   "execution_count": 22,
   "id": "bf433733",
   "metadata": {
    "execution": {
     "iopub.execute_input": "2022-04-10T14:48:15.217054Z",
     "iopub.status.busy": "2022-04-10T14:48:15.216332Z",
     "iopub.status.idle": "2022-04-10T14:48:15.225165Z",
     "shell.execute_reply": "2022-04-10T14:48:15.225795Z",
     "shell.execute_reply.started": "2022-04-10T14:39:23.150761Z"
    },
    "papermill": {
     "duration": 0.072384,
     "end_time": "2022-04-10T14:48:15.225993",
     "exception": false,
     "start_time": "2022-04-10T14:48:15.153609",
     "status": "completed"
    },
    "tags": []
   },
   "outputs": [
    {
     "data": {
      "text/plain": [
       "PassengerId    0\n",
       "Survived       0\n",
       "Pclass         0\n",
       "Name           0\n",
       "Sex            0\n",
       "Age            0\n",
       "SibSp          0\n",
       "Parch          0\n",
       "Ticket         0\n",
       "Fare           0\n",
       "Embarked       0\n",
       "dtype: int64"
      ]
     },
     "execution_count": 22,
     "metadata": {},
     "output_type": "execute_result"
    }
   ],
   "source": [
    "train.isnull().sum()"
   ]
  },
  {
   "cell_type": "markdown",
   "id": "cc398722",
   "metadata": {
    "papermill": {
     "duration": 0.059584,
     "end_time": "2022-04-10T14:48:15.345002",
     "exception": false,
     "start_time": "2022-04-10T14:48:15.285418",
     "status": "completed"
    },
    "tags": []
   },
   "source": [
    "# ML model"
   ]
  },
  {
   "cell_type": "markdown",
   "id": "6a72da2c",
   "metadata": {
    "execution": {
     "iopub.execute_input": "2022-04-10T10:22:50.865035Z",
     "iopub.status.busy": "2022-04-10T10:22:50.86474Z",
     "iopub.status.idle": "2022-04-10T10:22:50.869055Z",
     "shell.execute_reply": "2022-04-10T10:22:50.868393Z",
     "shell.execute_reply.started": "2022-04-10T10:22:50.865003Z"
    },
    "papermill": {
     "duration": 0.060194,
     "end_time": "2022-04-10T14:48:15.466553",
     "exception": false,
     "start_time": "2022-04-10T14:48:15.406359",
     "status": "completed"
    },
    "tags": []
   },
   "source": [
    "## Getting features and target value."
   ]
  },
  {
   "cell_type": "code",
   "execution_count": 23,
   "id": "2e851be6",
   "metadata": {
    "execution": {
     "iopub.execute_input": "2022-04-10T14:48:15.591326Z",
     "iopub.status.busy": "2022-04-10T14:48:15.590630Z",
     "iopub.status.idle": "2022-04-10T14:48:15.600044Z",
     "shell.execute_reply": "2022-04-10T14:48:15.600657Z",
     "shell.execute_reply.started": "2022-04-10T14:39:23.540651Z"
    },
    "papermill": {
     "duration": 0.074173,
     "end_time": "2022-04-10T14:48:15.600920",
     "exception": false,
     "start_time": "2022-04-10T14:48:15.526747",
     "status": "completed"
    },
    "tags": []
   },
   "outputs": [
    {
     "data": {
      "text/plain": [
       "PassengerId      int64\n",
       "Pclass           int64\n",
       "Name            object\n",
       "Sex             object\n",
       "Age            float64\n",
       "SibSp            int64\n",
       "Parch            int64\n",
       "Ticket          object\n",
       "Fare           float64\n",
       "Embarked        object\n",
       "dtype: object"
      ]
     },
     "execution_count": 23,
     "metadata": {},
     "output_type": "execute_result"
    }
   ],
   "source": [
    "X_train = train.drop([\"Survived\"],axis = 1)\n",
    "X_train.dtypes"
   ]
  },
  {
   "cell_type": "code",
   "execution_count": 24,
   "id": "b8efab75",
   "metadata": {
    "execution": {
     "iopub.execute_input": "2022-04-10T14:48:15.723486Z",
     "iopub.status.busy": "2022-04-10T14:48:15.722798Z",
     "iopub.status.idle": "2022-04-10T14:48:15.729108Z",
     "shell.execute_reply": "2022-04-10T14:48:15.729696Z",
     "shell.execute_reply.started": "2022-04-10T14:39:23.770962Z"
    },
    "papermill": {
     "duration": 0.069596,
     "end_time": "2022-04-10T14:48:15.730042",
     "exception": false,
     "start_time": "2022-04-10T14:48:15.660446",
     "status": "completed"
    },
    "tags": []
   },
   "outputs": [
    {
     "data": {
      "text/plain": [
       "0    0\n",
       "1    1\n",
       "2    1\n",
       "3    1\n",
       "4    0\n",
       "5    0\n",
       "6    0\n",
       "7    0\n",
       "8    1\n",
       "9    1\n",
       "Name: Survived, dtype: int64"
      ]
     },
     "execution_count": 24,
     "metadata": {},
     "output_type": "execute_result"
    }
   ],
   "source": [
    "Y_train = train[\"Survived\"]\n",
    "Y_train[:10]"
   ]
  },
  {
   "cell_type": "markdown",
   "id": "5c269536",
   "metadata": {
    "execution": {
     "iopub.execute_input": "2022-04-10T10:29:37.664643Z",
     "iopub.status.busy": "2022-04-10T10:29:37.664051Z",
     "iopub.status.idle": "2022-04-10T10:29:37.669007Z",
     "shell.execute_reply": "2022-04-10T10:29:37.668022Z",
     "shell.execute_reply.started": "2022-04-10T10:29:37.664581Z"
    },
    "papermill": {
     "duration": 0.05927,
     "end_time": "2022-04-10T14:48:15.850475",
     "exception": false,
     "start_time": "2022-04-10T14:48:15.791205",
     "status": "completed"
    },
    "tags": []
   },
   "source": [
    "## transforming data so that we can use it for model training"
   ]
  },
  {
   "cell_type": "code",
   "execution_count": 25,
   "id": "b7e0efca",
   "metadata": {
    "execution": {
     "iopub.execute_input": "2022-04-10T14:48:15.972942Z",
     "iopub.status.busy": "2022-04-10T14:48:15.972197Z",
     "iopub.status.idle": "2022-04-10T14:48:15.980499Z",
     "shell.execute_reply": "2022-04-10T14:48:15.981108Z",
     "shell.execute_reply.started": "2022-04-10T14:39:24.215765Z"
    },
    "papermill": {
     "duration": 0.071285,
     "end_time": "2022-04-10T14:48:15.981296",
     "exception": false,
     "start_time": "2022-04-10T14:48:15.910011",
     "status": "completed"
    },
    "tags": []
   },
   "outputs": [
    {
     "data": {
      "text/plain": [
       "PassengerId      int64\n",
       "Pclass           int64\n",
       "Sex             object\n",
       "Age            float64\n",
       "SibSp            int64\n",
       "Parch            int64\n",
       "Fare           float64\n",
       "Embarked        object\n",
       "dtype: object"
      ]
     },
     "execution_count": 25,
     "metadata": {},
     "output_type": "execute_result"
    }
   ],
   "source": [
    "X_train.drop([\"Name\",\"Ticket\"],axis=1,inplace =True )\n",
    "X_train.dtypes"
   ]
  },
  {
   "cell_type": "code",
   "execution_count": 26,
   "id": "89aef6c6",
   "metadata": {
    "execution": {
     "iopub.execute_input": "2022-04-10T14:48:16.109258Z",
     "iopub.status.busy": "2022-04-10T14:48:16.108267Z",
     "iopub.status.idle": "2022-04-10T14:48:16.113274Z",
     "shell.execute_reply": "2022-04-10T14:48:16.113880Z",
     "shell.execute_reply.started": "2022-04-10T14:39:24.401825Z"
    },
    "papermill": {
     "duration": 0.070482,
     "end_time": "2022-04-10T14:48:16.114095",
     "exception": false,
     "start_time": "2022-04-10T14:48:16.043613",
     "status": "completed"
    },
    "tags": []
   },
   "outputs": [],
   "source": [
    "X_data = X_train.drop([\"PassengerId\"],axis = 1)"
   ]
  },
  {
   "cell_type": "code",
   "execution_count": 27,
   "id": "518dad54",
   "metadata": {
    "execution": {
     "iopub.execute_input": "2022-04-10T14:48:16.242149Z",
     "iopub.status.busy": "2022-04-10T14:48:16.241450Z",
     "iopub.status.idle": "2022-04-10T14:48:16.247642Z",
     "shell.execute_reply": "2022-04-10T14:48:16.248252Z",
     "shell.execute_reply.started": "2022-04-10T14:39:24.67909Z"
    },
    "papermill": {
     "duration": 0.072084,
     "end_time": "2022-04-10T14:48:16.248448",
     "exception": false,
     "start_time": "2022-04-10T14:48:16.176364",
     "status": "completed"
    },
    "tags": []
   },
   "outputs": [],
   "source": [
    "test.drop([\"Name\",\"Ticket\"],axis=1,inplace =True)\n",
    "test_data = test.drop([\"PassengerId\"],axis=1)"
   ]
  },
  {
   "cell_type": "code",
   "execution_count": 28,
   "id": "3054ba6c",
   "metadata": {
    "execution": {
     "iopub.execute_input": "2022-04-10T14:48:16.382927Z",
     "iopub.status.busy": "2022-04-10T14:48:16.382136Z",
     "iopub.status.idle": "2022-04-10T14:48:16.385285Z",
     "shell.execute_reply": "2022-04-10T14:48:16.385969Z",
     "shell.execute_reply.started": "2022-04-10T14:39:25.071038Z"
    },
    "papermill": {
     "duration": 0.0734,
     "end_time": "2022-04-10T14:48:16.386152",
     "exception": false,
     "start_time": "2022-04-10T14:48:16.312752",
     "status": "completed"
    },
    "tags": []
   },
   "outputs": [
    {
     "data": {
      "text/plain": [
       "PassengerId      int64\n",
       "Pclass           int64\n",
       "Sex             object\n",
       "Age            float64\n",
       "SibSp            int64\n",
       "Parch            int64\n",
       "Fare           float64\n",
       "Embarked        object\n",
       "dtype: object"
      ]
     },
     "execution_count": 28,
     "metadata": {},
     "output_type": "execute_result"
    }
   ],
   "source": [
    "test.dtypes"
   ]
  },
  {
   "cell_type": "code",
   "execution_count": 29,
   "id": "b4e3557b",
   "metadata": {
    "execution": {
     "iopub.execute_input": "2022-04-10T14:48:16.512224Z",
     "iopub.status.busy": "2022-04-10T14:48:16.511181Z",
     "iopub.status.idle": "2022-04-10T14:48:16.668447Z",
     "shell.execute_reply": "2022-04-10T14:48:16.667684Z",
     "shell.execute_reply.started": "2022-04-10T14:39:25.46965Z"
    },
    "papermill": {
     "duration": 0.221948,
     "end_time": "2022-04-10T14:48:16.668610",
     "exception": false,
     "start_time": "2022-04-10T14:48:16.446662",
     "status": "completed"
    },
    "tags": []
   },
   "outputs": [],
   "source": [
    "# Import OneHotEncoder class from sklearn\n",
    "from sklearn.preprocessing import OneHotEncoder\n",
    "from sklearn.compose import ColumnTransformer\n",
    "# Now let's one hot encode the features with the same code as before \n",
    "categorical_features = [\"Pclass\", \"Sex\", \"Embarked\"]\n",
    "one_hot = OneHotEncoder()\n",
    "transformer = ColumnTransformer([(\"one_hot\", \n",
    "                                 one_hot, \n",
    "                                 categorical_features)],\n",
    "                                 remainder=\"passthrough\")\n",
    "\n",
    "# Fill train and test values separately\n",
    "transformed_X_train = transformer.fit_transform(X_data) # fit and transform the training data\n"
   ]
  },
  {
   "cell_type": "code",
   "execution_count": 30,
   "id": "49567efa",
   "metadata": {
    "execution": {
     "iopub.execute_input": "2022-04-10T14:48:16.801564Z",
     "iopub.status.busy": "2022-04-10T14:48:16.800609Z",
     "iopub.status.idle": "2022-04-10T14:48:16.804302Z",
     "shell.execute_reply": "2022-04-10T14:48:16.804868Z",
     "shell.execute_reply.started": "2022-04-10T14:39:25.957369Z"
    },
    "papermill": {
     "duration": 0.074155,
     "end_time": "2022-04-10T14:48:16.805069",
     "exception": false,
     "start_time": "2022-04-10T14:48:16.730914",
     "status": "completed"
    },
    "tags": []
   },
   "outputs": [
    {
     "data": {
      "text/plain": [
       "array([[ 0.    ,  0.    ,  1.    , ...,  1.    ,  0.    ,  7.25  ],\n",
       "       [ 1.    ,  0.    ,  0.    , ...,  1.    ,  0.    , 71.2833],\n",
       "       [ 0.    ,  0.    ,  1.    , ...,  0.    ,  0.    ,  7.925 ],\n",
       "       ...,\n",
       "       [ 0.    ,  0.    ,  1.    , ...,  1.    ,  2.    , 23.45  ],\n",
       "       [ 1.    ,  0.    ,  0.    , ...,  0.    ,  0.    , 30.    ],\n",
       "       [ 0.    ,  0.    ,  1.    , ...,  0.    ,  0.    ,  7.75  ]])"
      ]
     },
     "execution_count": 30,
     "metadata": {},
     "output_type": "execute_result"
    }
   ],
   "source": [
    "# Check transformed and filled X_train\n",
    "transformed_X_train"
   ]
  },
  {
   "cell_type": "code",
   "execution_count": 31,
   "id": "f0617e8f",
   "metadata": {
    "execution": {
     "iopub.execute_input": "2022-04-10T14:48:16.934173Z",
     "iopub.status.busy": "2022-04-10T14:48:16.933431Z",
     "iopub.status.idle": "2022-04-10T14:48:16.942376Z",
     "shell.execute_reply": "2022-04-10T14:48:16.941776Z",
     "shell.execute_reply.started": "2022-04-10T14:39:26.352332Z"
    },
    "papermill": {
     "duration": 0.07521,
     "end_time": "2022-04-10T14:48:16.942545",
     "exception": false,
     "start_time": "2022-04-10T14:48:16.867335",
     "status": "completed"
    },
    "tags": []
   },
   "outputs": [],
   "source": [
    "test_transformed = transformer.fit_transform(test_data)"
   ]
  },
  {
   "cell_type": "code",
   "execution_count": 32,
   "id": "923c4690",
   "metadata": {
    "execution": {
     "iopub.execute_input": "2022-04-10T14:48:17.072264Z",
     "iopub.status.busy": "2022-04-10T14:48:17.071551Z",
     "iopub.status.idle": "2022-04-10T14:48:17.078172Z",
     "shell.execute_reply": "2022-04-10T14:48:17.078684Z",
     "shell.execute_reply.started": "2022-04-10T14:39:55.444001Z"
    },
    "papermill": {
     "duration": 0.074516,
     "end_time": "2022-04-10T14:48:17.078895",
     "exception": false,
     "start_time": "2022-04-10T14:48:17.004379",
     "status": "completed"
    },
    "tags": []
   },
   "outputs": [
    {
     "data": {
      "text/plain": [
       "array([[ 0.    ,  0.    ,  1.    , ...,  0.    ,  0.    ,  7.8292],\n",
       "       [ 0.    ,  0.    ,  1.    , ...,  1.    ,  0.    ,  7.    ],\n",
       "       [ 0.    ,  1.    ,  0.    , ...,  0.    ,  0.    ,  9.6875],\n",
       "       ...,\n",
       "       [ 0.    ,  0.    ,  1.    , ...,  0.    ,  0.    ,  7.25  ],\n",
       "       [ 0.    ,  0.    ,  1.    , ...,  0.    ,  0.    ,  8.05  ],\n",
       "       [ 0.    ,  0.    ,  1.    , ...,  1.    ,  1.    , 22.3583]])"
      ]
     },
     "execution_count": 32,
     "metadata": {},
     "output_type": "execute_result"
    }
   ],
   "source": [
    "test_transformed"
   ]
  },
  {
   "cell_type": "markdown",
   "id": "2825ff07",
   "metadata": {
    "papermill": {
     "duration": 0.083825,
     "end_time": "2022-04-10T14:48:17.225257",
     "exception": false,
     "start_time": "2022-04-10T14:48:17.141432",
     "status": "completed"
    },
    "tags": []
   },
   "source": [
    "## Using sklearn and Randomforestclassification"
   ]
  },
  {
   "cell_type": "code",
   "execution_count": 33,
   "id": "191e2e64",
   "metadata": {
    "execution": {
     "iopub.execute_input": "2022-04-10T14:48:17.365148Z",
     "iopub.status.busy": "2022-04-10T14:48:17.364445Z",
     "iopub.status.idle": "2022-04-10T14:48:17.630277Z",
     "shell.execute_reply": "2022-04-10T14:48:17.629440Z",
     "shell.execute_reply.started": "2022-04-10T14:39:58.313273Z"
    },
    "papermill": {
     "duration": 0.332836,
     "end_time": "2022-04-10T14:48:17.630438",
     "exception": false,
     "start_time": "2022-04-10T14:48:17.297602",
     "status": "completed"
    },
    "tags": []
   },
   "outputs": [],
   "source": [
    "from sklearn.model_selection import train_test_split\n",
    "from sklearn.ensemble import RandomForestClassifier"
   ]
  },
  {
   "cell_type": "code",
   "execution_count": 34,
   "id": "2952a3f7",
   "metadata": {
    "execution": {
     "iopub.execute_input": "2022-04-10T14:48:17.763057Z",
     "iopub.status.busy": "2022-04-10T14:48:17.762317Z",
     "iopub.status.idle": "2022-04-10T14:48:17.763786Z",
     "shell.execute_reply": "2022-04-10T14:48:17.764438Z",
     "shell.execute_reply.started": "2022-04-10T14:40:02.628452Z"
    },
    "papermill": {
     "duration": 0.071367,
     "end_time": "2022-04-10T14:48:17.764626",
     "exception": false,
     "start_time": "2022-04-10T14:48:17.693259",
     "status": "completed"
    },
    "tags": []
   },
   "outputs": [],
   "source": [
    "Clf = RandomForestClassifier()"
   ]
  },
  {
   "cell_type": "code",
   "execution_count": 35,
   "id": "7a5d6d40",
   "metadata": {
    "execution": {
     "iopub.execute_input": "2022-04-10T14:48:17.893223Z",
     "iopub.status.busy": "2022-04-10T14:48:17.892511Z",
     "iopub.status.idle": "2022-04-10T14:48:18.142824Z",
     "shell.execute_reply": "2022-04-10T14:48:18.142059Z",
     "shell.execute_reply.started": "2022-04-10T14:40:16.772183Z"
    },
    "papermill": {
     "duration": 0.315602,
     "end_time": "2022-04-10T14:48:18.142984",
     "exception": false,
     "start_time": "2022-04-10T14:48:17.827382",
     "status": "completed"
    },
    "tags": []
   },
   "outputs": [
    {
     "data": {
      "text/plain": [
       "RandomForestClassifier()"
      ]
     },
     "execution_count": 35,
     "metadata": {},
     "output_type": "execute_result"
    }
   ],
   "source": [
    "Clf.fit(transformed_X_train,Y_train)"
   ]
  },
  {
   "cell_type": "code",
   "execution_count": 36,
   "id": "0685e055",
   "metadata": {
    "execution": {
     "iopub.execute_input": "2022-04-10T14:48:18.278908Z",
     "iopub.status.busy": "2022-04-10T14:48:18.277781Z",
     "iopub.status.idle": "2022-04-10T14:48:18.306658Z",
     "shell.execute_reply": "2022-04-10T14:48:18.306078Z",
     "shell.execute_reply.started": "2022-04-10T14:41:02.774024Z"
    },
    "papermill": {
     "duration": 0.099779,
     "end_time": "2022-04-10T14:48:18.306833",
     "exception": false,
     "start_time": "2022-04-10T14:48:18.207054",
     "status": "completed"
    },
    "tags": []
   },
   "outputs": [
    {
     "data": {
      "text/plain": [
       "0.7990430622009569"
      ]
     },
     "execution_count": 36,
     "metadata": {},
     "output_type": "execute_result"
    }
   ],
   "source": [
    "Clf.score(test_transformed,submission.drop([\"PassengerId\"],axis=1))"
   ]
  },
  {
   "cell_type": "code",
   "execution_count": 37,
   "id": "27655125",
   "metadata": {
    "execution": {
     "iopub.execute_input": "2022-04-10T14:48:18.440077Z",
     "iopub.status.busy": "2022-04-10T14:48:18.439253Z",
     "iopub.status.idle": "2022-04-10T14:48:18.471429Z",
     "shell.execute_reply": "2022-04-10T14:48:18.472055Z",
     "shell.execute_reply.started": "2022-04-10T14:42:04.888184Z"
    },
    "papermill": {
     "duration": 0.102063,
     "end_time": "2022-04-10T14:48:18.472251",
     "exception": false,
     "start_time": "2022-04-10T14:48:18.370188",
     "status": "completed"
    },
    "tags": []
   },
   "outputs": [],
   "source": [
    "predictions = Clf.predict(test_transformed)\n",
    "\n",
    "output = pd.DataFrame({'PassengerId': test.PassengerId, 'Survived': predictions})\n",
    "output.to_csv('submission.csv', index=False)"
   ]
  },
  {
   "cell_type": "code",
   "execution_count": null,
   "id": "29252d0e",
   "metadata": {
    "papermill": {
     "duration": 0.065289,
     "end_time": "2022-04-10T14:48:18.601745",
     "exception": false,
     "start_time": "2022-04-10T14:48:18.536456",
     "status": "completed"
    },
    "tags": []
   },
   "outputs": [],
   "source": []
  }
 ],
 "metadata": {
  "kernelspec": {
   "display_name": "Python 3",
   "language": "python",
   "name": "python3"
  },
  "language_info": {
   "codemirror_mode": {
    "name": "ipython",
    "version": 3
   },
   "file_extension": ".py",
   "mimetype": "text/x-python",
   "name": "python",
   "nbconvert_exporter": "python",
   "pygments_lexer": "ipython3",
   "version": "3.7.12"
  },
  "papermill": {
   "default_parameters": {},
   "duration": 23.836919,
   "end_time": "2022-04-10T14:48:19.475382",
   "environment_variables": {},
   "exception": null,
   "input_path": "__notebook__.ipynb",
   "output_path": "__notebook__.ipynb",
   "parameters": {},
   "start_time": "2022-04-10T14:47:55.638463",
   "version": "2.3.3"
  }
 },
 "nbformat": 4,
 "nbformat_minor": 5
}
