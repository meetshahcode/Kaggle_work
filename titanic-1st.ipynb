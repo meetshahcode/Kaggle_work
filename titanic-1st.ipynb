{
 "cells": [
  {
   "cell_type": "markdown",
   "id": "cdcc8fc8",
   "metadata": {
    "papermill": {
     "duration": 0.022765,
     "end_time": "2022-04-10T12:07:06.173144",
     "exception": false,
     "start_time": "2022-04-10T12:07:06.150379",
     "status": "completed"
    },
    "tags": []
   },
   "source": [
    "# Environment setup"
   ]
  },
  {
   "cell_type": "code",
   "execution_count": 1,
   "id": "6be825c8",
   "metadata": {
    "_cell_guid": "b1076dfc-b9ad-4769-8c92-a6c4dae69d19",
    "_uuid": "8f2839f25d086af736a60e9eeb907d3b93b6e0e5",
    "execution": {
     "iopub.execute_input": "2022-04-10T12:07:06.225359Z",
     "iopub.status.busy": "2022-04-10T12:07:06.224252Z",
     "iopub.status.idle": "2022-04-10T12:07:07.296986Z",
     "shell.execute_reply": "2022-04-10T12:07:07.297463Z",
     "shell.execute_reply.started": "2022-04-10T10:43:10.308139Z"
    },
    "papermill": {
     "duration": 1.098856,
     "end_time": "2022-04-10T12:07:07.297797",
     "exception": false,
     "start_time": "2022-04-10T12:07:06.198941",
     "status": "completed"
    },
    "tags": []
   },
   "outputs": [
    {
     "name": "stdout",
     "output_type": "stream",
     "text": [
      "/kaggle/input/titanic/train.csv\n",
      "/kaggle/input/titanic/test.csv\n",
      "/kaggle/input/titanic/gender_submission.csv\n"
     ]
    }
   ],
   "source": [
    "# This Python 3 environment comes with many helpful analytics libraries installed\n",
    "# It is defined by the kaggle/python Docker image: https://github.com/kaggle/docker-python\n",
    "# For example, here's several helpful packages to load\n",
    "\n",
    "import numpy as np # linear algebra\n",
    "import pandas as pd # data processing, CSV file I/O (e.g. pd.read_csv)\n",
    "import matplotlib.pyplot as plt\n",
    "%matplotlib inline\n",
    "import seaborn as sns\n",
    "\n",
    "# Input data files are available in the read-only \"../input/\" directory\n",
    "# For example, running this (by clicking run or pressing Shift+Enter) will list all files under the input directory\n",
    "\n",
    "import os\n",
    "for dirname, _, filenames in os.walk('/kaggle/input'):\n",
    "    for filename in filenames:\n",
    "        print(os.path.join(dirname, filename))\n",
    "\n",
    "# You can write up to 20GB to the current directory (/kaggle/working/) that gets preserved as output when you create a version using \"Save & Run All\" \n",
    "# You can also write temporary files to /kaggle/temp/, but they won't be saved outside of the current session"
   ]
  },
  {
   "cell_type": "markdown",
   "id": "cb6ca200",
   "metadata": {
    "papermill": {
     "duration": 0.022024,
     "end_time": "2022-04-10T12:07:07.343362",
     "exception": false,
     "start_time": "2022-04-10T12:07:07.321338",
     "status": "completed"
    },
    "tags": []
   },
   "source": [
    "## Getting all data."
   ]
  },
  {
   "cell_type": "code",
   "execution_count": 2,
   "id": "fd5c5edf",
   "metadata": {
    "execution": {
     "iopub.execute_input": "2022-04-10T12:07:07.389840Z",
     "iopub.status.busy": "2022-04-10T12:07:07.389240Z",
     "iopub.status.idle": "2022-04-10T12:07:07.427725Z",
     "shell.execute_reply": "2022-04-10T12:07:07.428205Z",
     "shell.execute_reply.started": "2022-04-10T10:43:14.702625Z"
    },
    "papermill": {
     "duration": 0.063089,
     "end_time": "2022-04-10T12:07:07.428385",
     "exception": false,
     "start_time": "2022-04-10T12:07:07.365296",
     "status": "completed"
    },
    "tags": []
   },
   "outputs": [],
   "source": [
    "train=pd.read_csv(\"../input/titanic/train.csv\",index_col=\"PassengerId\")\n",
    "test=pd.read_csv(\"../input/titanic/test.csv\",index_col=\"PassengerId\")\n",
    "submission=pd.read_csv(\"../input/titanic/gender_submission.csv\",index_col = \"PassengerId\")"
   ]
  },
  {
   "cell_type": "markdown",
   "id": "fbc69e43",
   "metadata": {
    "papermill": {
     "duration": 0.021623,
     "end_time": "2022-04-10T12:07:07.473343",
     "exception": false,
     "start_time": "2022-04-10T12:07:07.451720",
     "status": "completed"
    },
    "tags": []
   },
   "source": [
    "# Exploring the Data"
   ]
  },
  {
   "cell_type": "code",
   "execution_count": 3,
   "id": "31204338",
   "metadata": {
    "execution": {
     "iopub.execute_input": "2022-04-10T12:07:07.520759Z",
     "iopub.status.busy": "2022-04-10T12:07:07.520123Z",
     "iopub.status.idle": "2022-04-10T12:07:07.540735Z",
     "shell.execute_reply": "2022-04-10T12:07:07.540137Z",
     "shell.execute_reply.started": "2022-04-10T10:43:17.459551Z"
    },
    "papermill": {
     "duration": 0.045714,
     "end_time": "2022-04-10T12:07:07.540874",
     "exception": false,
     "start_time": "2022-04-10T12:07:07.495160",
     "status": "completed"
    },
    "tags": []
   },
   "outputs": [
    {
     "data": {
      "text/html": [
       "<div>\n",
       "<style scoped>\n",
       "    .dataframe tbody tr th:only-of-type {\n",
       "        vertical-align: middle;\n",
       "    }\n",
       "\n",
       "    .dataframe tbody tr th {\n",
       "        vertical-align: top;\n",
       "    }\n",
       "\n",
       "    .dataframe thead th {\n",
       "        text-align: right;\n",
       "    }\n",
       "</style>\n",
       "<table border=\"1\" class=\"dataframe\">\n",
       "  <thead>\n",
       "    <tr style=\"text-align: right;\">\n",
       "      <th></th>\n",
       "      <th>Survived</th>\n",
       "      <th>Pclass</th>\n",
       "      <th>Name</th>\n",
       "      <th>Sex</th>\n",
       "      <th>Age</th>\n",
       "      <th>SibSp</th>\n",
       "      <th>Parch</th>\n",
       "      <th>Ticket</th>\n",
       "      <th>Fare</th>\n",
       "      <th>Cabin</th>\n",
       "      <th>Embarked</th>\n",
       "    </tr>\n",
       "    <tr>\n",
       "      <th>PassengerId</th>\n",
       "      <th></th>\n",
       "      <th></th>\n",
       "      <th></th>\n",
       "      <th></th>\n",
       "      <th></th>\n",
       "      <th></th>\n",
       "      <th></th>\n",
       "      <th></th>\n",
       "      <th></th>\n",
       "      <th></th>\n",
       "      <th></th>\n",
       "    </tr>\n",
       "  </thead>\n",
       "  <tbody>\n",
       "    <tr>\n",
       "      <th>1</th>\n",
       "      <td>0</td>\n",
       "      <td>3</td>\n",
       "      <td>Braund, Mr. Owen Harris</td>\n",
       "      <td>male</td>\n",
       "      <td>22.0</td>\n",
       "      <td>1</td>\n",
       "      <td>0</td>\n",
       "      <td>A/5 21171</td>\n",
       "      <td>7.2500</td>\n",
       "      <td>NaN</td>\n",
       "      <td>S</td>\n",
       "    </tr>\n",
       "    <tr>\n",
       "      <th>2</th>\n",
       "      <td>1</td>\n",
       "      <td>1</td>\n",
       "      <td>Cumings, Mrs. John Bradley (Florence Briggs Th...</td>\n",
       "      <td>female</td>\n",
       "      <td>38.0</td>\n",
       "      <td>1</td>\n",
       "      <td>0</td>\n",
       "      <td>PC 17599</td>\n",
       "      <td>71.2833</td>\n",
       "      <td>C85</td>\n",
       "      <td>C</td>\n",
       "    </tr>\n",
       "    <tr>\n",
       "      <th>3</th>\n",
       "      <td>1</td>\n",
       "      <td>3</td>\n",
       "      <td>Heikkinen, Miss. Laina</td>\n",
       "      <td>female</td>\n",
       "      <td>26.0</td>\n",
       "      <td>0</td>\n",
       "      <td>0</td>\n",
       "      <td>STON/O2. 3101282</td>\n",
       "      <td>7.9250</td>\n",
       "      <td>NaN</td>\n",
       "      <td>S</td>\n",
       "    </tr>\n",
       "    <tr>\n",
       "      <th>4</th>\n",
       "      <td>1</td>\n",
       "      <td>1</td>\n",
       "      <td>Futrelle, Mrs. Jacques Heath (Lily May Peel)</td>\n",
       "      <td>female</td>\n",
       "      <td>35.0</td>\n",
       "      <td>1</td>\n",
       "      <td>0</td>\n",
       "      <td>113803</td>\n",
       "      <td>53.1000</td>\n",
       "      <td>C123</td>\n",
       "      <td>S</td>\n",
       "    </tr>\n",
       "    <tr>\n",
       "      <th>5</th>\n",
       "      <td>0</td>\n",
       "      <td>3</td>\n",
       "      <td>Allen, Mr. William Henry</td>\n",
       "      <td>male</td>\n",
       "      <td>35.0</td>\n",
       "      <td>0</td>\n",
       "      <td>0</td>\n",
       "      <td>373450</td>\n",
       "      <td>8.0500</td>\n",
       "      <td>NaN</td>\n",
       "      <td>S</td>\n",
       "    </tr>\n",
       "  </tbody>\n",
       "</table>\n",
       "</div>"
      ],
      "text/plain": [
       "             Survived  Pclass  \\\n",
       "PassengerId                     \n",
       "1                   0       3   \n",
       "2                   1       1   \n",
       "3                   1       3   \n",
       "4                   1       1   \n",
       "5                   0       3   \n",
       "\n",
       "                                                          Name     Sex   Age  \\\n",
       "PassengerId                                                                    \n",
       "1                                      Braund, Mr. Owen Harris    male  22.0   \n",
       "2            Cumings, Mrs. John Bradley (Florence Briggs Th...  female  38.0   \n",
       "3                                       Heikkinen, Miss. Laina  female  26.0   \n",
       "4                 Futrelle, Mrs. Jacques Heath (Lily May Peel)  female  35.0   \n",
       "5                                     Allen, Mr. William Henry    male  35.0   \n",
       "\n",
       "             SibSp  Parch            Ticket     Fare Cabin Embarked  \n",
       "PassengerId                                                          \n",
       "1                1      0         A/5 21171   7.2500   NaN        S  \n",
       "2                1      0          PC 17599  71.2833   C85        C  \n",
       "3                0      0  STON/O2. 3101282   7.9250   NaN        S  \n",
       "4                1      0            113803  53.1000  C123        S  \n",
       "5                0      0            373450   8.0500   NaN        S  "
      ]
     },
     "execution_count": 3,
     "metadata": {},
     "output_type": "execute_result"
    }
   ],
   "source": [
    "train.head()"
   ]
  },
  {
   "cell_type": "code",
   "execution_count": 4,
   "id": "b2daf6a5",
   "metadata": {
    "execution": {
     "iopub.execute_input": "2022-04-10T12:07:07.593267Z",
     "iopub.status.busy": "2022-04-10T12:07:07.592264Z",
     "iopub.status.idle": "2022-04-10T12:07:07.595761Z",
     "shell.execute_reply": "2022-04-10T12:07:07.596368Z",
     "shell.execute_reply.started": "2022-04-10T10:43:18.416887Z"
    },
    "papermill": {
     "duration": 0.032751,
     "end_time": "2022-04-10T12:07:07.596539",
     "exception": false,
     "start_time": "2022-04-10T12:07:07.563788",
     "status": "completed"
    },
    "tags": []
   },
   "outputs": [
    {
     "data": {
      "text/plain": [
       "Survived      int64\n",
       "Pclass        int64\n",
       "Name         object\n",
       "Sex          object\n",
       "Age         float64\n",
       "SibSp         int64\n",
       "Parch         int64\n",
       "Ticket       object\n",
       "Fare        float64\n",
       "Cabin        object\n",
       "Embarked     object\n",
       "dtype: object"
      ]
     },
     "execution_count": 4,
     "metadata": {},
     "output_type": "execute_result"
    }
   ],
   "source": [
    "train.dtypes"
   ]
  },
  {
   "cell_type": "code",
   "execution_count": 5,
   "id": "66b5f5ed",
   "metadata": {
    "execution": {
     "iopub.execute_input": "2022-04-10T12:07:07.648467Z",
     "iopub.status.busy": "2022-04-10T12:07:07.647524Z",
     "iopub.status.idle": "2022-04-10T12:07:07.652659Z",
     "shell.execute_reply": "2022-04-10T12:07:07.653235Z",
     "shell.execute_reply.started": "2022-04-10T10:43:20.914158Z"
    },
    "papermill": {
     "duration": 0.031872,
     "end_time": "2022-04-10T12:07:07.653415",
     "exception": false,
     "start_time": "2022-04-10T12:07:07.621543",
     "status": "completed"
    },
    "tags": []
   },
   "outputs": [
    {
     "data": {
      "text/plain": [
       "(9801, (891, 11))"
      ]
     },
     "execution_count": 5,
     "metadata": {},
     "output_type": "execute_result"
    }
   ],
   "source": [
    "train.size , train.shape"
   ]
  },
  {
   "cell_type": "code",
   "execution_count": 6,
   "id": "ad5f268e",
   "metadata": {
    "execution": {
     "iopub.execute_input": "2022-04-10T12:07:07.706246Z",
     "iopub.status.busy": "2022-04-10T12:07:07.705385Z",
     "iopub.status.idle": "2022-04-10T12:07:07.731861Z",
     "shell.execute_reply": "2022-04-10T12:07:07.732436Z",
     "shell.execute_reply.started": "2022-04-10T10:43:21.629255Z"
    },
    "papermill": {
     "duration": 0.055759,
     "end_time": "2022-04-10T12:07:07.732604",
     "exception": false,
     "start_time": "2022-04-10T12:07:07.676845",
     "status": "completed"
    },
    "tags": []
   },
   "outputs": [
    {
     "data": {
      "text/html": [
       "<div>\n",
       "<style scoped>\n",
       "    .dataframe tbody tr th:only-of-type {\n",
       "        vertical-align: middle;\n",
       "    }\n",
       "\n",
       "    .dataframe tbody tr th {\n",
       "        vertical-align: top;\n",
       "    }\n",
       "\n",
       "    .dataframe thead th {\n",
       "        text-align: right;\n",
       "    }\n",
       "</style>\n",
       "<table border=\"1\" class=\"dataframe\">\n",
       "  <thead>\n",
       "    <tr style=\"text-align: right;\">\n",
       "      <th></th>\n",
       "      <th>Survived</th>\n",
       "      <th>Pclass</th>\n",
       "      <th>Age</th>\n",
       "      <th>SibSp</th>\n",
       "      <th>Parch</th>\n",
       "      <th>Fare</th>\n",
       "    </tr>\n",
       "  </thead>\n",
       "  <tbody>\n",
       "    <tr>\n",
       "      <th>count</th>\n",
       "      <td>891.000000</td>\n",
       "      <td>891.000000</td>\n",
       "      <td>714.000000</td>\n",
       "      <td>891.000000</td>\n",
       "      <td>891.000000</td>\n",
       "      <td>891.000000</td>\n",
       "    </tr>\n",
       "    <tr>\n",
       "      <th>mean</th>\n",
       "      <td>0.383838</td>\n",
       "      <td>2.308642</td>\n",
       "      <td>29.699118</td>\n",
       "      <td>0.523008</td>\n",
       "      <td>0.381594</td>\n",
       "      <td>32.204208</td>\n",
       "    </tr>\n",
       "    <tr>\n",
       "      <th>std</th>\n",
       "      <td>0.486592</td>\n",
       "      <td>0.836071</td>\n",
       "      <td>14.526497</td>\n",
       "      <td>1.102743</td>\n",
       "      <td>0.806057</td>\n",
       "      <td>49.693429</td>\n",
       "    </tr>\n",
       "    <tr>\n",
       "      <th>min</th>\n",
       "      <td>0.000000</td>\n",
       "      <td>1.000000</td>\n",
       "      <td>0.420000</td>\n",
       "      <td>0.000000</td>\n",
       "      <td>0.000000</td>\n",
       "      <td>0.000000</td>\n",
       "    </tr>\n",
       "    <tr>\n",
       "      <th>25%</th>\n",
       "      <td>0.000000</td>\n",
       "      <td>2.000000</td>\n",
       "      <td>20.125000</td>\n",
       "      <td>0.000000</td>\n",
       "      <td>0.000000</td>\n",
       "      <td>7.910400</td>\n",
       "    </tr>\n",
       "    <tr>\n",
       "      <th>50%</th>\n",
       "      <td>0.000000</td>\n",
       "      <td>3.000000</td>\n",
       "      <td>28.000000</td>\n",
       "      <td>0.000000</td>\n",
       "      <td>0.000000</td>\n",
       "      <td>14.454200</td>\n",
       "    </tr>\n",
       "    <tr>\n",
       "      <th>75%</th>\n",
       "      <td>1.000000</td>\n",
       "      <td>3.000000</td>\n",
       "      <td>38.000000</td>\n",
       "      <td>1.000000</td>\n",
       "      <td>0.000000</td>\n",
       "      <td>31.000000</td>\n",
       "    </tr>\n",
       "    <tr>\n",
       "      <th>max</th>\n",
       "      <td>1.000000</td>\n",
       "      <td>3.000000</td>\n",
       "      <td>80.000000</td>\n",
       "      <td>8.000000</td>\n",
       "      <td>6.000000</td>\n",
       "      <td>512.329200</td>\n",
       "    </tr>\n",
       "  </tbody>\n",
       "</table>\n",
       "</div>"
      ],
      "text/plain": [
       "         Survived      Pclass         Age       SibSp       Parch        Fare\n",
       "count  891.000000  891.000000  714.000000  891.000000  891.000000  891.000000\n",
       "mean     0.383838    2.308642   29.699118    0.523008    0.381594   32.204208\n",
       "std      0.486592    0.836071   14.526497    1.102743    0.806057   49.693429\n",
       "min      0.000000    1.000000    0.420000    0.000000    0.000000    0.000000\n",
       "25%      0.000000    2.000000   20.125000    0.000000    0.000000    7.910400\n",
       "50%      0.000000    3.000000   28.000000    0.000000    0.000000   14.454200\n",
       "75%      1.000000    3.000000   38.000000    1.000000    0.000000   31.000000\n",
       "max      1.000000    3.000000   80.000000    8.000000    6.000000  512.329200"
      ]
     },
     "execution_count": 6,
     "metadata": {},
     "output_type": "execute_result"
    }
   ],
   "source": [
    "train.describe()"
   ]
  },
  {
   "cell_type": "code",
   "execution_count": 7,
   "id": "89b0ffc3",
   "metadata": {
    "execution": {
     "iopub.execute_input": "2022-04-10T12:07:07.792046Z",
     "iopub.status.busy": "2022-04-10T12:07:07.788327Z",
     "iopub.status.idle": "2022-04-10T12:07:07.805328Z",
     "shell.execute_reply": "2022-04-10T12:07:07.805792Z",
     "shell.execute_reply.started": "2022-04-10T10:43:25.691160Z"
    },
    "papermill": {
     "duration": 0.049111,
     "end_time": "2022-04-10T12:07:07.805990",
     "exception": false,
     "start_time": "2022-04-10T12:07:07.756879",
     "status": "completed"
    },
    "tags": []
   },
   "outputs": [
    {
     "data": {
      "text/html": [
       "<div>\n",
       "<style scoped>\n",
       "    .dataframe tbody tr th:only-of-type {\n",
       "        vertical-align: middle;\n",
       "    }\n",
       "\n",
       "    .dataframe tbody tr th {\n",
       "        vertical-align: top;\n",
       "    }\n",
       "\n",
       "    .dataframe thead th {\n",
       "        text-align: right;\n",
       "    }\n",
       "</style>\n",
       "<table border=\"1\" class=\"dataframe\">\n",
       "  <thead>\n",
       "    <tr style=\"text-align: right;\">\n",
       "      <th></th>\n",
       "      <th>Name</th>\n",
       "      <th>Sex</th>\n",
       "      <th>Ticket</th>\n",
       "      <th>Cabin</th>\n",
       "      <th>Embarked</th>\n",
       "    </tr>\n",
       "  </thead>\n",
       "  <tbody>\n",
       "    <tr>\n",
       "      <th>count</th>\n",
       "      <td>891</td>\n",
       "      <td>891</td>\n",
       "      <td>891</td>\n",
       "      <td>204</td>\n",
       "      <td>889</td>\n",
       "    </tr>\n",
       "    <tr>\n",
       "      <th>unique</th>\n",
       "      <td>891</td>\n",
       "      <td>2</td>\n",
       "      <td>681</td>\n",
       "      <td>147</td>\n",
       "      <td>3</td>\n",
       "    </tr>\n",
       "    <tr>\n",
       "      <th>top</th>\n",
       "      <td>Braund, Mr. Owen Harris</td>\n",
       "      <td>male</td>\n",
       "      <td>347082</td>\n",
       "      <td>B96 B98</td>\n",
       "      <td>S</td>\n",
       "    </tr>\n",
       "    <tr>\n",
       "      <th>freq</th>\n",
       "      <td>1</td>\n",
       "      <td>577</td>\n",
       "      <td>7</td>\n",
       "      <td>4</td>\n",
       "      <td>644</td>\n",
       "    </tr>\n",
       "  </tbody>\n",
       "</table>\n",
       "</div>"
      ],
      "text/plain": [
       "                           Name   Sex  Ticket    Cabin Embarked\n",
       "count                       891   891     891      204      889\n",
       "unique                      891     2     681      147        3\n",
       "top     Braund, Mr. Owen Harris  male  347082  B96 B98        S\n",
       "freq                          1   577       7        4      644"
      ]
     },
     "execution_count": 7,
     "metadata": {},
     "output_type": "execute_result"
    }
   ],
   "source": [
    "train.describe(include=\"O\")"
   ]
  },
  {
   "cell_type": "markdown",
   "id": "3bbd2259",
   "metadata": {
    "papermill": {
     "duration": 0.024428,
     "end_time": "2022-04-10T12:07:07.854960",
     "exception": false,
     "start_time": "2022-04-10T12:07:07.830532",
     "status": "completed"
    },
    "tags": []
   },
   "source": [
    "### Gender/sex analysis"
   ]
  },
  {
   "cell_type": "code",
   "execution_count": 8,
   "id": "fce63a90",
   "metadata": {
    "execution": {
     "iopub.execute_input": "2022-04-10T12:07:07.910691Z",
     "iopub.status.busy": "2022-04-10T12:07:07.908347Z",
     "iopub.status.idle": "2022-04-10T12:07:08.128327Z",
     "shell.execute_reply": "2022-04-10T12:07:08.127777Z",
     "shell.execute_reply.started": "2022-04-10T11:54:27.673638Z"
    },
    "papermill": {
     "duration": 0.247933,
     "end_time": "2022-04-10T12:07:08.128466",
     "exception": false,
     "start_time": "2022-04-10T12:07:07.880533",
     "status": "completed"
    },
    "tags": []
   },
   "outputs": [
    {
     "data": {
      "image/png": "[encoded data removed]",
      "text/plain": [
       "<Figure size 432x288 with 1 Axes>"
      ]
     },
     "metadata": {
      "needs_background": "light"
     },
     "output_type": "display_data"
    }
   ],
   "source": [
    "ax = sns.countplot(x = train[\"Survived\"] , hue= train[\"Sex\"] , palette= \"cool\")\n",
    "for p in ax.patches:\n",
    "   ax.annotate(p.get_height(), (p.get_x()+0.15, p.get_height()/2))\n",
    "plt.show()"
   ]
  },
  {
   "cell_type": "code",
   "execution_count": 9,
   "id": "c0434616",
   "metadata": {
    "execution": {
     "iopub.execute_input": "2022-04-10T12:07:08.184269Z",
     "iopub.status.busy": "2022-04-10T12:07:08.181439Z",
     "iopub.status.idle": "2022-04-10T12:07:08.785320Z",
     "shell.execute_reply": "2022-04-10T12:07:08.784068Z",
     "shell.execute_reply.started": "2022-04-10T11:54:41.715529Z"
    },
    "papermill": {
     "duration": 0.631751,
     "end_time": "2022-04-10T12:07:08.785489",
     "exception": false,
     "start_time": "2022-04-10T12:07:08.153738",
     "status": "completed"
    },
    "tags": []
   },
   "outputs": [
    {
     "data": {
      "image/png": "[encoded data removed]",
      "text/plain": [
       "<Figure size 771.875x360 with 2 Axes>"
      ]
     },
     "metadata": {
      "needs_background": "light"
     },
     "output_type": "display_data"
    }
   ],
   "source": [
    "ax = sns.displot(data=train, x=\"Age\", hue=\"Survived\" , col=\"Sex\",kind = \"kde\" ,rug= True ,palette= \"winter\")"
   ]
  },
  {
   "cell_type": "markdown",
   "id": "c0bce353",
   "metadata": {
    "execution": {
     "iopub.execute_input": "2022-04-10T11:56:05.733486Z",
     "iopub.status.busy": "2022-04-10T11:56:05.733169Z",
     "iopub.status.idle": "2022-04-10T11:56:05.737785Z",
     "shell.execute_reply": "2022-04-10T11:56:05.736442Z",
     "shell.execute_reply.started": "2022-04-10T11:56:05.733457Z"
    },
    "papermill": {
     "duration": 0.02535,
     "end_time": "2022-04-10T12:07:08.837433",
     "exception": false,
     "start_time": "2022-04-10T12:07:08.812083",
     "status": "completed"
    },
    "tags": []
   },
   "source": [
    "### Age analysis"
   ]
  },
  {
   "cell_type": "code",
   "execution_count": 10,
   "id": "1c7a5fd7",
   "metadata": {
    "execution": {
     "iopub.execute_input": "2022-04-10T12:07:08.892144Z",
     "iopub.status.busy": "2022-04-10T12:07:08.891487Z",
     "iopub.status.idle": "2022-04-10T12:07:09.093386Z",
     "shell.execute_reply": "2022-04-10T12:07:09.093844Z",
     "shell.execute_reply.started": "2022-04-10T11:57:26.404611Z"
    },
    "papermill": {
     "duration": 0.230735,
     "end_time": "2022-04-10T12:07:09.094053",
     "exception": false,
     "start_time": "2022-04-10T12:07:08.863318",
     "status": "completed"
    },
    "tags": []
   },
   "outputs": [
    {
     "data": {
      "text/plain": [
       "<AxesSubplot:xlabel='Age', ylabel='Count'>"
      ]
     },
     "execution_count": 10,
     "metadata": {},
     "output_type": "execute_result"
    },
    {
     "data": {
      "image/png": "[encoded data removed]",
      "text/plain": [
       "<Figure size 432x288 with 1 Axes>"
      ]
     },
     "metadata": {
      "needs_background": "light"
     },
     "output_type": "display_data"
    }
   ],
   "source": [
    "sns.histplot(data = train ,x = 'Age' )"
   ]
  },
  {
   "cell_type": "code",
   "execution_count": 11,
   "id": "d83442be",
   "metadata": {
    "execution": {
     "iopub.execute_input": "2022-04-10T12:07:09.151268Z",
     "iopub.status.busy": "2022-04-10T12:07:09.150320Z",
     "iopub.status.idle": "2022-04-10T12:07:10.506078Z",
     "shell.execute_reply": "2022-04-10T12:07:10.506615Z",
     "shell.execute_reply.started": "2022-04-10T12:06:27.029045Z"
    },
    "papermill": {
     "duration": 1.386107,
     "end_time": "2022-04-10T12:07:10.506797",
     "exception": false,
     "start_time": "2022-04-10T12:07:09.120690",
     "status": "completed"
    },
    "tags": []
   },
   "outputs": [
    {
     "data": {
      "image/png": "[encoded data removed]",
      "text/plain": [
       "<Figure size 720x1080 with 6 Axes>"
      ]
     },
     "metadata": {
      "needs_background": "light"
     },
     "output_type": "display_data"
    }
   ],
   "source": [
    "ax = sns.displot(data=train, x=\"Age\", col=\"Survived\" , row = \"Pclass\");"
   ]
  },
  {
   "cell_type": "markdown",
   "id": "096e2a54",
   "metadata": {
    "papermill": {
     "duration": 0.028724,
     "end_time": "2022-04-10T12:07:10.563975",
     "exception": false,
     "start_time": "2022-04-10T12:07:10.535251",
     "status": "completed"
    },
    "tags": []
   },
   "source": [
    "### Cheking and fixing null values"
   ]
  },
  {
   "cell_type": "code",
   "execution_count": 12,
   "id": "22b7c2b9",
   "metadata": {
    "execution": {
     "iopub.execute_input": "2022-04-10T12:07:10.623580Z",
     "iopub.status.busy": "2022-04-10T12:07:10.622906Z",
     "iopub.status.idle": "2022-04-10T12:07:10.630386Z",
     "shell.execute_reply": "2022-04-10T12:07:10.630858Z",
     "shell.execute_reply.started": "2022-04-10T10:28:21.081518Z"
    },
    "papermill": {
     "duration": 0.03938,
     "end_time": "2022-04-10T12:07:10.631037",
     "exception": false,
     "start_time": "2022-04-10T12:07:10.591657",
     "status": "completed"
    },
    "tags": []
   },
   "outputs": [
    {
     "data": {
      "text/plain": [
       "Survived      0\n",
       "Pclass        0\n",
       "Name          0\n",
       "Sex           0\n",
       "Age         177\n",
       "SibSp         0\n",
       "Parch         0\n",
       "Ticket        0\n",
       "Fare          0\n",
       "Cabin       687\n",
       "Embarked      2\n",
       "dtype: int64"
      ]
     },
     "execution_count": 12,
     "metadata": {},
     "output_type": "execute_result"
    }
   ],
   "source": [
    "train.isnull().sum()"
   ]
  },
  {
   "cell_type": "code",
   "execution_count": 13,
   "id": "60da941e",
   "metadata": {
    "execution": {
     "iopub.execute_input": "2022-04-10T12:07:10.692549Z",
     "iopub.status.busy": "2022-04-10T12:07:10.691915Z",
     "iopub.status.idle": "2022-04-10T12:07:10.696501Z",
     "shell.execute_reply": "2022-04-10T12:07:10.697029Z",
     "shell.execute_reply.started": "2022-04-10T10:28:24.309494Z"
    },
    "papermill": {
     "duration": 0.03681,
     "end_time": "2022-04-10T12:07:10.697217",
     "exception": false,
     "start_time": "2022-04-10T12:07:10.660407",
     "status": "completed"
    },
    "tags": []
   },
   "outputs": [],
   "source": [
    "train.drop([\"Cabin\"],axis = 1,inplace=True)"
   ]
  },
  {
   "cell_type": "code",
   "execution_count": 14,
   "id": "a1ace4c6",
   "metadata": {
    "execution": {
     "iopub.execute_input": "2022-04-10T12:07:10.758012Z",
     "iopub.status.busy": "2022-04-10T12:07:10.757432Z",
     "iopub.status.idle": "2022-04-10T12:07:10.761691Z",
     "shell.execute_reply": "2022-04-10T12:07:10.762289Z",
     "shell.execute_reply.started": "2022-04-10T10:28:25.652152Z"
    },
    "papermill": {
     "duration": 0.035785,
     "end_time": "2022-04-10T12:07:10.762454",
     "exception": false,
     "start_time": "2022-04-10T12:07:10.726669",
     "status": "completed"
    },
    "tags": []
   },
   "outputs": [],
   "source": [
    "train['Age'].fillna(value = train[\"Age\"].mean(), inplace = True)"
   ]
  },
  {
   "cell_type": "code",
   "execution_count": 15,
   "id": "dc88a3f8",
   "metadata": {
    "execution": {
     "iopub.execute_input": "2022-04-10T12:07:10.826150Z",
     "iopub.status.busy": "2022-04-10T12:07:10.825398Z",
     "iopub.status.idle": "2022-04-10T12:07:10.828423Z",
     "shell.execute_reply": "2022-04-10T12:07:10.828858Z",
     "shell.execute_reply.started": "2022-04-10T10:28:29.357371Z"
    },
    "papermill": {
     "duration": 0.03709,
     "end_time": "2022-04-10T12:07:10.829050",
     "exception": false,
     "start_time": "2022-04-10T12:07:10.791960",
     "status": "completed"
    },
    "tags": []
   },
   "outputs": [
    {
     "data": {
      "text/plain": [
       "array(['S', 'C', 'Q', nan], dtype=object)"
      ]
     },
     "execution_count": 15,
     "metadata": {},
     "output_type": "execute_result"
    }
   ],
   "source": [
    "train[\"Embarked\"].unique()"
   ]
  },
  {
   "cell_type": "code",
   "execution_count": 16,
   "id": "6ca474e9",
   "metadata": {
    "execution": {
     "iopub.execute_input": "2022-04-10T12:07:10.894709Z",
     "iopub.status.busy": "2022-04-10T12:07:10.893917Z",
     "iopub.status.idle": "2022-04-10T12:07:10.897122Z",
     "shell.execute_reply": "2022-04-10T12:07:10.897571Z",
     "shell.execute_reply.started": "2022-04-10T10:28:30.146177Z"
    },
    "papermill": {
     "duration": 0.039176,
     "end_time": "2022-04-10T12:07:10.897745",
     "exception": false,
     "start_time": "2022-04-10T12:07:10.858569",
     "status": "completed"
    },
    "tags": []
   },
   "outputs": [
    {
     "data": {
      "text/plain": [
       "S    644\n",
       "C    168\n",
       "Q     77\n",
       "Name: Embarked, dtype: int64"
      ]
     },
     "execution_count": 16,
     "metadata": {},
     "output_type": "execute_result"
    }
   ],
   "source": [
    "train[\"Embarked\"].value_counts()"
   ]
  },
  {
   "cell_type": "code",
   "execution_count": 17,
   "id": "9f796d61",
   "metadata": {
    "execution": {
     "iopub.execute_input": "2022-04-10T12:07:10.965182Z",
     "iopub.status.busy": "2022-04-10T12:07:10.964528Z",
     "iopub.status.idle": "2022-04-10T12:07:10.967200Z",
     "shell.execute_reply": "2022-04-10T12:07:10.967675Z",
     "shell.execute_reply.started": "2022-04-10T10:28:30.917391Z"
    },
    "papermill": {
     "duration": 0.041184,
     "end_time": "2022-04-10T12:07:10.967844",
     "exception": false,
     "start_time": "2022-04-10T12:07:10.926660",
     "status": "completed"
    },
    "tags": []
   },
   "outputs": [
    {
     "data": {
      "text/plain": [
       "S    646\n",
       "C    168\n",
       "Q     77\n",
       "Name: Embarked, dtype: int64"
      ]
     },
     "execution_count": 17,
     "metadata": {},
     "output_type": "execute_result"
    }
   ],
   "source": [
    "train[\"Embarked\"].fillna(value = 'S' , inplace = True)\n",
    "train[\"Embarked\"].value_counts()"
   ]
  },
  {
   "cell_type": "code",
   "execution_count": 18,
   "id": "d50fae30",
   "metadata": {
    "execution": {
     "iopub.execute_input": "2022-04-10T12:07:11.032599Z",
     "iopub.status.busy": "2022-04-10T12:07:11.031631Z",
     "iopub.status.idle": "2022-04-10T12:07:11.034547Z",
     "shell.execute_reply": "2022-04-10T12:07:11.033963Z",
     "shell.execute_reply.started": "2022-04-10T10:28:33.284930Z"
    },
    "papermill": {
     "duration": 0.037814,
     "end_time": "2022-04-10T12:07:11.034693",
     "exception": false,
     "start_time": "2022-04-10T12:07:10.996879",
     "status": "completed"
    },
    "tags": []
   },
   "outputs": [],
   "source": [
    "test.drop([\"Cabin\"],axis = 1 , inplace = True)"
   ]
  },
  {
   "cell_type": "code",
   "execution_count": 19,
   "id": "b316a3c1",
   "metadata": {
    "execution": {
     "iopub.execute_input": "2022-04-10T12:07:11.100586Z",
     "iopub.status.busy": "2022-04-10T12:07:11.099615Z",
     "iopub.status.idle": "2022-04-10T12:07:11.102653Z",
     "shell.execute_reply": "2022-04-10T12:07:11.103262Z",
     "shell.execute_reply.started": "2022-04-10T10:28:34.020346Z"
    },
    "papermill": {
     "duration": 0.040009,
     "end_time": "2022-04-10T12:07:11.103435",
     "exception": false,
     "start_time": "2022-04-10T12:07:11.063426",
     "status": "completed"
    },
    "tags": []
   },
   "outputs": [],
   "source": [
    "test['Age'].fillna(value = test[\"Age\"].mean(), inplace = True)\n",
    "test[\"Fare\"].fillna(value = test[\"Fare\"].mean(),inplace = True)"
   ]
  },
  {
   "cell_type": "code",
   "execution_count": 20,
   "id": "4f8a96ad",
   "metadata": {
    "execution": {
     "iopub.execute_input": "2022-04-10T12:07:11.165281Z",
     "iopub.status.busy": "2022-04-10T12:07:11.164307Z",
     "iopub.status.idle": "2022-04-10T12:07:11.171780Z",
     "shell.execute_reply": "2022-04-10T12:07:11.172291Z",
     "shell.execute_reply.started": "2022-04-10T10:28:36.270749Z"
    },
    "papermill": {
     "duration": 0.040098,
     "end_time": "2022-04-10T12:07:11.172454",
     "exception": false,
     "start_time": "2022-04-10T12:07:11.132356",
     "status": "completed"
    },
    "tags": []
   },
   "outputs": [
    {
     "data": {
      "text/plain": [
       "Pclass      0\n",
       "Name        0\n",
       "Sex         0\n",
       "Age         0\n",
       "SibSp       0\n",
       "Parch       0\n",
       "Ticket      0\n",
       "Fare        0\n",
       "Embarked    0\n",
       "dtype: int64"
      ]
     },
     "execution_count": 20,
     "metadata": {},
     "output_type": "execute_result"
    }
   ],
   "source": [
    "test.isnull().sum()"
   ]
  },
  {
   "cell_type": "markdown",
   "id": "0bb7f0b3",
   "metadata": {
    "execution": {
     "iopub.execute_input": "2022-04-10T10:29:37.664643Z",
     "iopub.status.busy": "2022-04-10T10:29:37.664051Z",
     "iopub.status.idle": "2022-04-10T10:29:37.669007Z",
     "shell.execute_reply": "2022-04-10T10:29:37.668022Z",
     "shell.execute_reply.started": "2022-04-10T10:29:37.664581Z"
    },
    "papermill": {
     "duration": 0.031805,
     "end_time": "2022-04-10T12:07:11.234566",
     "exception": false,
     "start_time": "2022-04-10T12:07:11.202761",
     "status": "completed"
    },
    "tags": []
   },
   "source": [
    "## cleaning data so that we can use it for model training"
   ]
  },
  {
   "cell_type": "markdown",
   "id": "4bcf83ec",
   "metadata": {
    "papermill": {
     "duration": 0.028849,
     "end_time": "2022-04-10T12:07:11.292555",
     "exception": false,
     "start_time": "2022-04-10T12:07:11.263706",
     "status": "completed"
    },
    "tags": []
   },
   "source": [
    "# ML model"
   ]
  },
  {
   "cell_type": "markdown",
   "id": "50a3338a",
   "metadata": {
    "execution": {
     "iopub.execute_input": "2022-04-10T10:22:50.865035Z",
     "iopub.status.busy": "2022-04-10T10:22:50.864740Z",
     "iopub.status.idle": "2022-04-10T10:22:50.869055Z",
     "shell.execute_reply": "2022-04-10T10:22:50.868393Z",
     "shell.execute_reply.started": "2022-04-10T10:22:50.865003Z"
    },
    "papermill": {
     "duration": 0.028584,
     "end_time": "2022-04-10T12:07:11.350055",
     "exception": false,
     "start_time": "2022-04-10T12:07:11.321471",
     "status": "completed"
    },
    "tags": []
   },
   "source": [
    "## Getting features and target value."
   ]
  },
  {
   "cell_type": "code",
   "execution_count": 21,
   "id": "324aba6e",
   "metadata": {
    "execution": {
     "iopub.execute_input": "2022-04-10T12:07:11.421570Z",
     "iopub.status.busy": "2022-04-10T12:07:11.420802Z",
     "iopub.status.idle": "2022-04-10T12:07:11.423909Z",
     "shell.execute_reply": "2022-04-10T12:07:11.424357Z",
     "shell.execute_reply.started": "2022-04-10T10:28:39.498816Z"
    },
    "papermill": {
     "duration": 0.042474,
     "end_time": "2022-04-10T12:07:11.424517",
     "exception": false,
     "start_time": "2022-04-10T12:07:11.382043",
     "status": "completed"
    },
    "tags": []
   },
   "outputs": [
    {
     "data": {
      "text/plain": [
       "Pclass        int64\n",
       "Name         object\n",
       "Sex          object\n",
       "Age         float64\n",
       "SibSp         int64\n",
       "Parch         int64\n",
       "Ticket       object\n",
       "Fare        float64\n",
       "Embarked     object\n",
       "dtype: object"
      ]
     },
     "execution_count": 21,
     "metadata": {},
     "output_type": "execute_result"
    }
   ],
   "source": [
    "X_train = train.drop([\"Survived\"],axis = 1)\n",
    "X_train.dtypes"
   ]
  },
  {
   "cell_type": "code",
   "execution_count": 22,
   "id": "e5a815f7",
   "metadata": {
    "execution": {
     "iopub.execute_input": "2022-04-10T12:07:11.489140Z",
     "iopub.status.busy": "2022-04-10T12:07:11.485661Z",
     "iopub.status.idle": "2022-04-10T12:07:11.491614Z",
     "shell.execute_reply": "2022-04-10T12:07:11.492100Z",
     "shell.execute_reply.started": "2022-04-10T10:28:45.643164Z"
    },
    "papermill": {
     "duration": 0.038804,
     "end_time": "2022-04-10T12:07:11.492330",
     "exception": false,
     "start_time": "2022-04-10T12:07:11.453526",
     "status": "completed"
    },
    "tags": []
   },
   "outputs": [
    {
     "data": {
      "text/plain": [
       "PassengerId\n",
       "1     0\n",
       "2     1\n",
       "3     1\n",
       "4     1\n",
       "5     0\n",
       "6     0\n",
       "7     0\n",
       "8     0\n",
       "9     1\n",
       "10    1\n",
       "Name: Survived, dtype: int64"
      ]
     },
     "execution_count": 22,
     "metadata": {},
     "output_type": "execute_result"
    }
   ],
   "source": [
    "Y_train = train[\"Survived\"]\n",
    "Y_train[:10]"
   ]
  },
  {
   "cell_type": "markdown",
   "id": "f35e58d7",
   "metadata": {
    "papermill": {
     "duration": 0.029202,
     "end_time": "2022-04-10T12:07:11.551344",
     "exception": false,
     "start_time": "2022-04-10T12:07:11.522142",
     "status": "completed"
    },
    "tags": []
   },
   "source": [
    "## Using sklearn and Randomforestclassification"
   ]
  },
  {
   "cell_type": "code",
   "execution_count": 23,
   "id": "d75c8ed4",
   "metadata": {
    "execution": {
     "iopub.execute_input": "2022-04-10T12:07:11.613723Z",
     "iopub.status.busy": "2022-04-10T12:07:11.613075Z",
     "iopub.status.idle": "2022-04-10T12:07:11.991141Z",
     "shell.execute_reply": "2022-04-10T12:07:11.990579Z"
    },
    "papermill": {
     "duration": 0.41043,
     "end_time": "2022-04-10T12:07:11.991300",
     "exception": false,
     "start_time": "2022-04-10T12:07:11.580870",
     "status": "completed"
    },
    "tags": []
   },
   "outputs": [],
   "source": [
    "from sklearn.model_selection import train_test_split\n",
    "from sklearn.ensemble import RandomForestClassifier"
   ]
  }
 ],
 "metadata": {
  "kernelspec": {
   "display_name": "Python 3",
   "language": "python",
   "name": "python3"
  },
  "language_info": {
   "codemirror_mode": {
    "name": "ipython",
    "version": 3
   },
   "file_extension": ".py",
   "mimetype": "text/x-python",
   "name": "python",
   "nbconvert_exporter": "python",
   "pygments_lexer": "ipython3",
   "version": "3.7.12"
  },
  "papermill": {
   "default_parameters": {},
   "duration": 15.073762,
   "end_time": "2022-04-10T12:07:12.731045",
   "environment_variables": {},
   "exception": null,
   "input_path": "__notebook__.ipynb",
   "output_path": "__notebook__.ipynb",
   "parameters": {},
   "start_time": "2022-04-10T12:06:57.657283",
   "version": "2.3.3"
  }
 },
 "nbformat": 4,
 "nbformat_minor": 5
}
